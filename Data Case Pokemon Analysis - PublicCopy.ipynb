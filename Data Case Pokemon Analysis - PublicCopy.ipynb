{
 "cells": [
  {
   "cell_type": "markdown",
   "metadata": {},
   "source": [
    "# Data Case \n",
    "\n",
    "## Gotta Catch'em All!\n",
    "\n",
    "\n",
    "We will investigate important managerial questions concerning one of the most critical entities in modern civilization: <b>Pokemon</b>.\n",
    "\n",
    "The columns of the data are as follows:\n",
    "- <i>pokedex</i>: Pokemon ID in the national Pokedex\n",
    "- <i>name</i>: name of the Pokemon\n",
    "- <i>generation</i>: number of the first generation that the Pokemon appeared\n",
    "- <i>status</i>: if the Pokemon is Normal, Legendary, Sub Legendary, or Mythical\n",
    "- <i>type_1, type_2</i>: types of the the Pokemon (some have only one type)\n",
    "- <i>height_m</i>: height in metters\n",
    "- <i>weight_kg</i>: weight in kilograms\n",
    "- <i>ability_1, ability_2</i>: Pokemon abilities (some have only one ability)\n",
    "- <i>attack:</i> The base attack of the Pokemon (large is better)\n",
    "- <i>defense:</i> The base defense of the Pokemon (large is better)\n",
    "- <i>speed:</i> The base speed of the Pokemon (large is better)\n",
    "- <i>catch_rate</i>: The catch rate of the Pokemon. It is a number between 3 and 255\n",
    "\n",
    "Answer the questions below using Python in the appropriate cells. Even if the question does not ask explicitely, recall to <b>check the consistency and clean the data, if needed,</b> before your analysis in each case. Add qualitative answers as comments in the cells.\n",
    "\n",
    "<b> Note: </b> Before answering the questions, please go to to the Jupyter's menu and execute \"Kernel,\" \"Restart & Run all.\" This will ensure that the notebook and modules are appropriately loaded."
   ]
  },
  {
   "cell_type": "markdown",
   "metadata": {},
   "source": [
    "## Reading Data\n",
    "\n",
    "Load the file in a data frame <i>dfPokemon</i>. Make sure to understand all columns before proceeding with the questions"
   ]
  },
  {
   "cell_type": "code",
   "execution_count": 1,
   "metadata": {},
   "outputs": [],
   "source": [
    "# Import Python modules\n",
    "import pandas as pd\n",
    "import numpy as np\n",
    "import matplotlib.pyplot as plt\n",
    "import scipy.stats as stats\n",
    "\n",
    "# Disable warnings to facilitate the analysis (SetttingwithCopyWarning)\n",
    "pd.set_option('mode.chained_assignment', None)"
   ]
  },
  {
   "cell_type": "code",
   "execution_count": 2,
   "metadata": {},
   "outputs": [
    {
     "data": {
      "text/html": [
       "<div>\n",
       "<style scoped>\n",
       "    .dataframe tbody tr th:only-of-type {\n",
       "        vertical-align: middle;\n",
       "    }\n",
       "\n",
       "    .dataframe tbody tr th {\n",
       "        vertical-align: top;\n",
       "    }\n",
       "\n",
       "    .dataframe thead th {\n",
       "        text-align: right;\n",
       "    }\n",
       "</style>\n",
       "<table border=\"1\" class=\"dataframe\">\n",
       "  <thead>\n",
       "    <tr style=\"text-align: right;\">\n",
       "      <th></th>\n",
       "      <th>name</th>\n",
       "      <th>generation</th>\n",
       "      <th>status</th>\n",
       "      <th>type_1</th>\n",
       "      <th>type_2</th>\n",
       "      <th>height_m</th>\n",
       "      <th>weight_kg</th>\n",
       "      <th>ability_1</th>\n",
       "      <th>ability_2</th>\n",
       "      <th>hp</th>\n",
       "      <th>attack</th>\n",
       "      <th>defense</th>\n",
       "      <th>speed</th>\n",
       "      <th>catch_rate</th>\n",
       "    </tr>\n",
       "    <tr>\n",
       "      <th>pokedex</th>\n",
       "      <th></th>\n",
       "      <th></th>\n",
       "      <th></th>\n",
       "      <th></th>\n",
       "      <th></th>\n",
       "      <th></th>\n",
       "      <th></th>\n",
       "      <th></th>\n",
       "      <th></th>\n",
       "      <th></th>\n",
       "      <th></th>\n",
       "      <th></th>\n",
       "      <th></th>\n",
       "      <th></th>\n",
       "    </tr>\n",
       "  </thead>\n",
       "  <tbody>\n",
       "    <tr>\n",
       "      <th>1</th>\n",
       "      <td>Bulbasaur</td>\n",
       "      <td>1</td>\n",
       "      <td>Normal</td>\n",
       "      <td>Grass</td>\n",
       "      <td>Poison</td>\n",
       "      <td>0.7</td>\n",
       "      <td>6.9</td>\n",
       "      <td>Overgrow</td>\n",
       "      <td>NaN</td>\n",
       "      <td>45</td>\n",
       "      <td>49</td>\n",
       "      <td>49</td>\n",
       "      <td>45</td>\n",
       "      <td>45.0</td>\n",
       "    </tr>\n",
       "    <tr>\n",
       "      <th>2</th>\n",
       "      <td>Ivysaur</td>\n",
       "      <td>1</td>\n",
       "      <td>Normal</td>\n",
       "      <td>Grass</td>\n",
       "      <td>Poison</td>\n",
       "      <td>1.0</td>\n",
       "      <td>13.0</td>\n",
       "      <td>Overgrow</td>\n",
       "      <td>NaN</td>\n",
       "      <td>60</td>\n",
       "      <td>62</td>\n",
       "      <td>63</td>\n",
       "      <td>60</td>\n",
       "      <td>45.0</td>\n",
       "    </tr>\n",
       "    <tr>\n",
       "      <th>3</th>\n",
       "      <td>Venusaur</td>\n",
       "      <td>1</td>\n",
       "      <td>Normal</td>\n",
       "      <td>Grass</td>\n",
       "      <td>Poison</td>\n",
       "      <td>2.0</td>\n",
       "      <td>100.0</td>\n",
       "      <td>Overgrow</td>\n",
       "      <td>NaN</td>\n",
       "      <td>80</td>\n",
       "      <td>82</td>\n",
       "      <td>83</td>\n",
       "      <td>80</td>\n",
       "      <td>45.0</td>\n",
       "    </tr>\n",
       "    <tr>\n",
       "      <th>3</th>\n",
       "      <td>Mega Venusaur</td>\n",
       "      <td>1</td>\n",
       "      <td>Normal</td>\n",
       "      <td>Grass</td>\n",
       "      <td>Poison</td>\n",
       "      <td>2.4</td>\n",
       "      <td>155.5</td>\n",
       "      <td>Thick Fat</td>\n",
       "      <td>NaN</td>\n",
       "      <td>80</td>\n",
       "      <td>100</td>\n",
       "      <td>123</td>\n",
       "      <td>80</td>\n",
       "      <td>45.0</td>\n",
       "    </tr>\n",
       "    <tr>\n",
       "      <th>4</th>\n",
       "      <td>Charmander</td>\n",
       "      <td>1</td>\n",
       "      <td>Normal</td>\n",
       "      <td>Fire</td>\n",
       "      <td>NaN</td>\n",
       "      <td>0.6</td>\n",
       "      <td>8.5</td>\n",
       "      <td>Blaze</td>\n",
       "      <td>NaN</td>\n",
       "      <td>39</td>\n",
       "      <td>52</td>\n",
       "      <td>43</td>\n",
       "      <td>65</td>\n",
       "      <td>45.0</td>\n",
       "    </tr>\n",
       "  </tbody>\n",
       "</table>\n",
       "</div>"
      ],
      "text/plain": [
       "                  name  generation  status type_1  type_2  height_m  \\\n",
       "pokedex                                                               \n",
       "1            Bulbasaur           1  Normal  Grass  Poison       0.7   \n",
       "2              Ivysaur           1  Normal  Grass  Poison       1.0   \n",
       "3             Venusaur           1  Normal  Grass  Poison       2.0   \n",
       "3        Mega Venusaur           1  Normal  Grass  Poison       2.4   \n",
       "4           Charmander           1  Normal   Fire     NaN       0.6   \n",
       "\n",
       "         weight_kg  ability_1 ability_2  hp attack defense  speed  catch_rate  \n",
       "pokedex                                                                        \n",
       "1              6.9   Overgrow       NaN  45     49      49     45        45.0  \n",
       "2             13.0   Overgrow       NaN  60     62      63     60        45.0  \n",
       "3            100.0   Overgrow       NaN  80     82      83     80        45.0  \n",
       "3            155.5  Thick Fat       NaN  80    100     123     80        45.0  \n",
       "4              8.5      Blaze       NaN  39     52      43     65        45.0  "
      ]
     },
     "execution_count": 2,
     "metadata": {},
     "output_type": "execute_result"
    }
   ],
   "source": [
    "dfPokemon = pd.read_csv('pokedex.csv', header=0, index_col=0)\n",
    "dfPokemon.head(5)"
   ]
  },
  {
   "cell_type": "markdown",
   "metadata": {},
   "source": [
    "## Question 1\n",
    "\n",
    "Often managers would like to have legendary Pokemon in their teams. It is assumed, however, that they are quite difficult to find and many spend months to catch them all. \n",
    "\n",
    "Is that really true? That is, are legendary Pokemon really rare <i>and</i> difficult to catch?  [2 pts]"
   ]
  },
  {
   "cell_type": "markdown",
   "metadata": {},
   "source": [
    "For this question, I will consider that\n",
    "\n",
    "- A Pokemon type is <i>rare</i> if there are not many of the same type in the dataset\n",
    "- A Pokemon is <i>difficult to catch</i> if its catch rate is smaller than others in the dataset."
   ]
  },
  {
   "cell_type": "code",
   "execution_count": 3,
   "metadata": {},
   "outputs": [],
   "source": [
    "# Obtain legendary and non-legendary Pokemon\n",
    "dfLegendary = dfPokemon[ dfPokemon[\"status\"] == \"Legendary\" ]\n",
    "dfNonLegendary = dfPokemon[ dfPokemon[\"status\"] != \"Legendary\" ]"
   ]
  },
  {
   "cell_type": "code",
   "execution_count": 4,
   "metadata": {},
   "outputs": [
    {
     "name": "stdout",
     "output_type": "stream",
     "text": [
      "3.79%\n"
     ]
    }
   ],
   "source": [
    "# Calculate rarity - here porcentage of rare Pokemon across total\n",
    "percentage = 100 * dfLegendary.shape[0] / dfPokemon.shape[0]\n",
    "print( str(round(percentage, 2)) + \"%\" )"
   ]
  },
  {
   "cell_type": "markdown",
   "metadata": {},
   "source": [
    "Legendary Pokemon are only 3.79%, so they are indeed rare! \n",
    "\n",
    "Now let us compare quantities in both of catch_rate. First, we need to check if the column <i>catch_rate</i> is consistent."
   ]
  },
  {
   "cell_type": "code",
   "execution_count": 5,
   "metadata": {},
   "outputs": [
    {
     "data": {
      "text/plain": [
       "name           object\n",
       "generation      int64\n",
       "status         object\n",
       "type_1         object\n",
       "type_2         object\n",
       "height_m      float64\n",
       "weight_kg     float64\n",
       "ability_1      object\n",
       "ability_2      object\n",
       "hp              int64\n",
       "attack         object\n",
       "defense        object\n",
       "speed           int64\n",
       "catch_rate    float64\n",
       "dtype: object"
      ]
     },
     "execution_count": 5,
     "metadata": {},
     "output_type": "execute_result"
    }
   ],
   "source": [
    "# First the type\n",
    "dfPokemon.dtypes"
   ]
  },
  {
   "cell_type": "code",
   "execution_count": 6,
   "metadata": {},
   "outputs": [
    {
     "name": "stdout",
     "output_type": "stream",
     "text": [
      "Legendary NaN: 6\n",
      "Non-legendary NaN: 98\n"
     ]
    }
   ],
   "source": [
    "# Now the NaN\n",
    "print( \"Legendary NaN: \" + str(dfLegendary[\"catch_rate\"].isnull().sum()) )\n",
    "print( \"Non-legendary NaN: \" + str(dfNonLegendary[\"catch_rate\"].isnull().sum()) )"
   ]
  },
  {
   "cell_type": "markdown",
   "metadata": {},
   "source": [
    "Both columns have NaN. What can we do now? Two options:\n",
    "\n",
    "- <i>Do nothing/drop the NaN</i>. They are in small numbers so we could potentially drop them. We just need to be careful to check and report how we are adding bias in this case. For this dataset, if we do any further analysis (which is required if we drop them), all the Legendary Pokemon who are missing come from generation 8. Thus, we must indicate that our insights may not be valid for generation 8, and discuss how that impact the generality of our conclusions (e.g., likely not much in this case, since we are just missing one generation).\n",
    "\n",
    "\n",
    "- <i>Filling data.</i> The most important aspect here is to think of what replacement value would make the most sense. The \"ideal\" solution, not practical in this case, is just to search online for those Pokemon. Otherwise, we need to consider the consequence or interpretation of our analysis once we replace those values. \n",
    "\n",
    "For this question, I will do a <i>conservative analysis</i> and fill the legendary with \"255\" and the non-legendary with \"3,\" i.e., with both extremes. With those values, I will know that the <b>real</b> legendary catch rate mean is <i>at most</i> the value I obtain, and the non-legendary real mean will be <i>at least</i> the value I get. Similarly for the standard deviations. Thus, if even with those replacements I deduce that the legendary catch rate is smaller than the non-legendary one, I can safely infer that indeed they are more difficult to catch."
   ]
  },
  {
   "cell_type": "code",
   "execution_count": 7,
   "metadata": {},
   "outputs": [
    {
     "data": {
      "text/plain": [
       "0"
      ]
     },
     "execution_count": 7,
     "metadata": {},
     "output_type": "execute_result"
    }
   ],
   "source": [
    "# Fill the legendary with 255\n",
    "dfLegendaryClean = dfLegendary.fillna({\"catch_rate\":255})\n",
    "dfLegendaryClean[\"catch_rate\"].isnull().sum()"
   ]
  },
  {
   "cell_type": "code",
   "execution_count": 8,
   "metadata": {},
   "outputs": [
    {
     "data": {
      "text/plain": [
       "0"
      ]
     },
     "execution_count": 8,
     "metadata": {},
     "output_type": "execute_result"
    }
   ],
   "source": [
    "# Fill the non-legendary with 3\n",
    "dfNonLegendaryClean = dfNonLegendary.fillna({\"catch_rate\":3})\n",
    "dfNonLegendaryClean[\"catch_rate\"].isnull().sum()"
   ]
  },
  {
   "cell_type": "code",
   "execution_count": 9,
   "metadata": {},
   "outputs": [
    {
     "name": "stdout",
     "output_type": "stream",
     "text": [
      "Legendary: \n",
      "count     39.000000\n",
      "mean      55.871795\n",
      "std       95.677963\n",
      "min        3.000000\n",
      "25%        3.000000\n",
      "50%        3.000000\n",
      "75%       45.000000\n",
      "max      255.000000\n",
      "Name: catch_rate, dtype: float64\n",
      "\n",
      "Non-legendary: \n",
      "count    989.000000\n",
      "mean      86.689585\n",
      "std       76.191797\n",
      "min        3.000000\n",
      "25%       45.000000\n",
      "50%       45.000000\n",
      "75%      120.000000\n",
      "max      255.000000\n",
      "Name: catch_rate, dtype: float64\n"
     ]
    }
   ],
   "source": [
    "# Now let us compare the distributions\n",
    "print(\"Legendary: \")\n",
    "print( dfLegendaryClean[\"catch_rate\"].describe() )\n",
    "\n",
    "print(\"\\nNon-legendary: \")\n",
    "print( dfNonLegendaryClean[\"catch_rate\"].describe() )"
   ]
  },
  {
   "cell_type": "code",
   "execution_count": 10,
   "metadata": {},
   "outputs": [
    {
     "data": {
      "image/png": "[encoded data removed]",
      "text/plain": [
       "<Figure size 640x480 with 1 Axes>"
      ]
     },
     "metadata": {},
     "output_type": "display_data"
    }
   ],
   "source": [
    "# A box plot would be really helpful too\n",
    "data = [dfLegendaryClean[\"catch_rate\"], dfNonLegendaryClean[\"catch_rate\"]]\n",
    "plt.boxplot(data, labels=[\"Legendary\",\"Non-Legendary\"])\n",
    "plt.ylabel(\"Catch Rate\")\n",
    "plt.show()"
   ]
  },
  {
   "cell_type": "markdown",
   "metadata": {},
   "source": [
    "Even replacing with extremes, the legendary catch rate is <b>significantly smaller</b> than the non-legendary ones. Notice that the mean is small, and the standard deviation of the legendary is higher simply because of the 255 points we added, which are outliers in its distributions. So yes, they are certainly harder to catch."
   ]
  },
  {
   "cell_type": "markdown",
   "metadata": {},
   "source": [
    "## Question 2\n",
    "\n",
    "A manager wishes to build the best Pokemon team possible. Who is the strongest Pokemon in terms of <b>attack</b> in the lastest generation in the dataset? And the one with the best <b>defense</b>? [1 pt]"
   ]
  },
  {
   "cell_type": "markdown",
   "metadata": {},
   "source": [
    "We start by taking the subset of the data that we need and cleaning it."
   ]
  },
  {
   "cell_type": "code",
   "execution_count": 11,
   "metadata": {},
   "outputs": [
    {
     "data": {
      "text/html": [
       "<div>\n",
       "<style scoped>\n",
       "    .dataframe tbody tr th:only-of-type {\n",
       "        vertical-align: middle;\n",
       "    }\n",
       "\n",
       "    .dataframe tbody tr th {\n",
       "        vertical-align: top;\n",
       "    }\n",
       "\n",
       "    .dataframe thead th {\n",
       "        text-align: right;\n",
       "    }\n",
       "</style>\n",
       "<table border=\"1\" class=\"dataframe\">\n",
       "  <thead>\n",
       "    <tr style=\"text-align: right;\">\n",
       "      <th></th>\n",
       "      <th>name</th>\n",
       "      <th>generation</th>\n",
       "      <th>status</th>\n",
       "      <th>type_1</th>\n",
       "      <th>type_2</th>\n",
       "      <th>height_m</th>\n",
       "      <th>weight_kg</th>\n",
       "      <th>ability_1</th>\n",
       "      <th>ability_2</th>\n",
       "      <th>hp</th>\n",
       "      <th>attack</th>\n",
       "      <th>defense</th>\n",
       "      <th>speed</th>\n",
       "      <th>catch_rate</th>\n",
       "    </tr>\n",
       "    <tr>\n",
       "      <th>pokedex</th>\n",
       "      <th></th>\n",
       "      <th></th>\n",
       "      <th></th>\n",
       "      <th></th>\n",
       "      <th></th>\n",
       "      <th></th>\n",
       "      <th></th>\n",
       "      <th></th>\n",
       "      <th></th>\n",
       "      <th></th>\n",
       "      <th></th>\n",
       "      <th></th>\n",
       "      <th></th>\n",
       "      <th></th>\n",
       "    </tr>\n",
       "  </thead>\n",
       "  <tbody>\n",
       "    <tr>\n",
       "      <th>810</th>\n",
       "      <td>Grookey</td>\n",
       "      <td>8</td>\n",
       "      <td>Normal</td>\n",
       "      <td>Grass</td>\n",
       "      <td>NaN</td>\n",
       "      <td>0.3</td>\n",
       "      <td>5.0</td>\n",
       "      <td>Overgrow</td>\n",
       "      <td>NaN</td>\n",
       "      <td>50</td>\n",
       "      <td>65</td>\n",
       "      <td>50</td>\n",
       "      <td>65</td>\n",
       "      <td>NaN</td>\n",
       "    </tr>\n",
       "    <tr>\n",
       "      <th>811</th>\n",
       "      <td>Thwackey</td>\n",
       "      <td>8</td>\n",
       "      <td>Normal</td>\n",
       "      <td>Grass</td>\n",
       "      <td>NaN</td>\n",
       "      <td>0.7</td>\n",
       "      <td>14.0</td>\n",
       "      <td>Overgrow</td>\n",
       "      <td>NaN</td>\n",
       "      <td>70</td>\n",
       "      <td>85</td>\n",
       "      <td>70</td>\n",
       "      <td>80</td>\n",
       "      <td>NaN</td>\n",
       "    </tr>\n",
       "    <tr>\n",
       "      <th>812</th>\n",
       "      <td>Rillaboom</td>\n",
       "      <td>8</td>\n",
       "      <td>Normal</td>\n",
       "      <td>Grass</td>\n",
       "      <td>NaN</td>\n",
       "      <td>2.1</td>\n",
       "      <td>90.0</td>\n",
       "      <td>Overgrow</td>\n",
       "      <td>NaN</td>\n",
       "      <td>100</td>\n",
       "      <td>125</td>\n",
       "      <td>90</td>\n",
       "      <td>85</td>\n",
       "      <td>NaN</td>\n",
       "    </tr>\n",
       "    <tr>\n",
       "      <th>813</th>\n",
       "      <td>Scorbunny</td>\n",
       "      <td>8</td>\n",
       "      <td>Normal</td>\n",
       "      <td>Fire</td>\n",
       "      <td>NaN</td>\n",
       "      <td>0.3</td>\n",
       "      <td>4.5</td>\n",
       "      <td>Blaze</td>\n",
       "      <td>NaN</td>\n",
       "      <td>50</td>\n",
       "      <td>71</td>\n",
       "      <td>40</td>\n",
       "      <td>69</td>\n",
       "      <td>NaN</td>\n",
       "    </tr>\n",
       "    <tr>\n",
       "      <th>814</th>\n",
       "      <td>Raboot</td>\n",
       "      <td>8</td>\n",
       "      <td>Normal</td>\n",
       "      <td>Fire</td>\n",
       "      <td>NaN</td>\n",
       "      <td>0.6</td>\n",
       "      <td>9.0</td>\n",
       "      <td>Blaze</td>\n",
       "      <td>NaN</td>\n",
       "      <td>65</td>\n",
       "      <td>86</td>\n",
       "      <td>60</td>\n",
       "      <td>94</td>\n",
       "      <td>NaN</td>\n",
       "    </tr>\n",
       "  </tbody>\n",
       "</table>\n",
       "</div>"
      ],
      "text/plain": [
       "              name  generation  status type_1 type_2  height_m  weight_kg  \\\n",
       "pokedex                                                                     \n",
       "810        Grookey           8  Normal  Grass    NaN       0.3        5.0   \n",
       "811       Thwackey           8  Normal  Grass    NaN       0.7       14.0   \n",
       "812      Rillaboom           8  Normal  Grass    NaN       2.1       90.0   \n",
       "813      Scorbunny           8  Normal   Fire    NaN       0.3        4.5   \n",
       "814         Raboot           8  Normal   Fire    NaN       0.6        9.0   \n",
       "\n",
       "        ability_1 ability_2   hp attack defense  speed  catch_rate  \n",
       "pokedex                                                             \n",
       "810      Overgrow       NaN   50     65      50     65         NaN  \n",
       "811      Overgrow       NaN   70     85      70     80         NaN  \n",
       "812      Overgrow       NaN  100    125      90     85         NaN  \n",
       "813         Blaze       NaN   50     71      40     69         NaN  \n",
       "814         Blaze       NaN   65     86      60     94         NaN  "
      ]
     },
     "execution_count": 11,
     "metadata": {},
     "output_type": "execute_result"
    }
   ],
   "source": [
    "# Pick last generation\n",
    "dfLastGeneration = dfPokemon[ dfPokemon[\"generation\"] == dfPokemon[\"generation\"].max() ]\n",
    "dfLastGeneration.head(5)"
   ]
  },
  {
   "cell_type": "code",
   "execution_count": 12,
   "metadata": {},
   "outputs": [
    {
     "data": {
      "text/plain": [
       "attack     object\n",
       "defense    object\n",
       "dtype: object"
      ]
     },
     "execution_count": 12,
     "metadata": {},
     "output_type": "execute_result"
    }
   ],
   "source": [
    "# Let us check the object types\n",
    "dfLastGeneration[[\"attack\",\"defense\"]].dtypes"
   ]
  },
  {
   "cell_type": "code",
   "execution_count": 13,
   "metadata": {},
   "outputs": [
    {
     "data": {
      "text/html": [
       "<div>\n",
       "<style scoped>\n",
       "    .dataframe tbody tr th:only-of-type {\n",
       "        vertical-align: middle;\n",
       "    }\n",
       "\n",
       "    .dataframe tbody tr th {\n",
       "        vertical-align: top;\n",
       "    }\n",
       "\n",
       "    .dataframe thead th {\n",
       "        text-align: right;\n",
       "    }\n",
       "</style>\n",
       "<table border=\"1\" class=\"dataframe\">\n",
       "  <thead>\n",
       "    <tr style=\"text-align: right;\">\n",
       "      <th></th>\n",
       "      <th>name</th>\n",
       "      <th>generation</th>\n",
       "      <th>status</th>\n",
       "      <th>type_1</th>\n",
       "      <th>type_2</th>\n",
       "      <th>height_m</th>\n",
       "      <th>weight_kg</th>\n",
       "      <th>ability_1</th>\n",
       "      <th>ability_2</th>\n",
       "      <th>hp</th>\n",
       "      <th>attack</th>\n",
       "      <th>defense</th>\n",
       "      <th>speed</th>\n",
       "      <th>catch_rate</th>\n",
       "    </tr>\n",
       "    <tr>\n",
       "      <th>pokedex</th>\n",
       "      <th></th>\n",
       "      <th></th>\n",
       "      <th></th>\n",
       "      <th></th>\n",
       "      <th></th>\n",
       "      <th></th>\n",
       "      <th></th>\n",
       "      <th></th>\n",
       "      <th></th>\n",
       "      <th></th>\n",
       "      <th></th>\n",
       "      <th></th>\n",
       "      <th></th>\n",
       "      <th></th>\n",
       "    </tr>\n",
       "  </thead>\n",
       "  <tbody>\n",
       "  </tbody>\n",
       "</table>\n",
       "</div>"
      ],
      "text/plain": [
       "Empty DataFrame\n",
       "Columns: [name, generation, status, type_1, type_2, height_m, weight_kg, ability_1, ability_2, hp, attack, defense, speed, catch_rate]\n",
       "Index: []"
      ]
     },
     "execution_count": 13,
     "metadata": {},
     "output_type": "execute_result"
    }
   ],
   "source": [
    "# Both are objects and may contain strings! Let's investigate:\n",
    "\n",
    "def is_number(x):\n",
    "    try:\n",
    "        float(x)\n",
    "    except ValueError:\n",
    "        return False\n",
    "    else:\n",
    "        return True\n",
    "\n",
    "dfLastGeneration[ ~(dfLastGeneration[\"attack\"].apply(is_number)) | ~(dfLastGeneration[\"defense\"].apply(is_number)) ]"
   ]
  },
  {
   "cell_type": "markdown",
   "metadata": {},
   "source": [
    "There are no strings in either column. This is because there must be strings in the full dataset (i.e., in other previous generations), so Python set this column as an object. However, we do not need to worry with that in this question. \n",
    "\n",
    "We can simply transform both columns into numbers"
   ]
  },
  {
   "cell_type": "code",
   "execution_count": 14,
   "metadata": {},
   "outputs": [
    {
     "name": "stdout",
     "output_type": "stream",
     "text": [
      "attack     int64\n",
      "defense    int64\n",
      "dtype: object\n"
     ]
    },
    {
     "data": {
      "text/plain": [
       "attack     0\n",
       "defense    0\n",
       "dtype: int64"
      ]
     },
     "execution_count": 14,
     "metadata": {},
     "output_type": "execute_result"
    }
   ],
   "source": [
    "dfLastGeneration[\"attack\"] = pd.to_numeric(dfLastGeneration[\"attack\"], errors=\"coerce\")\n",
    "dfLastGeneration[\"defense\"] = pd.to_numeric(dfLastGeneration[\"defense\"], errors=\"coerce\")\n",
    "\n",
    "# Check types again and missing fields\n",
    "print( dfLastGeneration[[\"attack\",\"defense\"]].dtypes )\n",
    "\n",
    "dfLastGeneration[[\"attack\",\"defense\"]].isnull().sum()"
   ]
  },
  {
   "cell_type": "markdown",
   "metadata": {},
   "source": [
    "Do not worry if we receive a <i>SettingWithCopyWarning</i> warning in the cell above, it indicates that we are changing a column on a slice and <i>not</i> on the original dataframe.\n",
    "\n",
    "Finally, we pick the Pokemon having the best attack and the best defense. Notice that it can be more than one, in case they have the same attack."
   ]
  },
  {
   "cell_type": "code",
   "execution_count": 15,
   "metadata": {},
   "outputs": [
    {
     "data": {
      "text/html": [
       "<div>\n",
       "<style scoped>\n",
       "    .dataframe tbody tr th:only-of-type {\n",
       "        vertical-align: middle;\n",
       "    }\n",
       "\n",
       "    .dataframe tbody tr th {\n",
       "        vertical-align: top;\n",
       "    }\n",
       "\n",
       "    .dataframe thead th {\n",
       "        text-align: right;\n",
       "    }\n",
       "</style>\n",
       "<table border=\"1\" class=\"dataframe\">\n",
       "  <thead>\n",
       "    <tr style=\"text-align: right;\">\n",
       "      <th></th>\n",
       "      <th>name</th>\n",
       "      <th>generation</th>\n",
       "      <th>status</th>\n",
       "      <th>type_1</th>\n",
       "      <th>type_2</th>\n",
       "      <th>height_m</th>\n",
       "      <th>weight_kg</th>\n",
       "      <th>ability_1</th>\n",
       "      <th>ability_2</th>\n",
       "      <th>hp</th>\n",
       "      <th>attack</th>\n",
       "      <th>defense</th>\n",
       "      <th>speed</th>\n",
       "      <th>catch_rate</th>\n",
       "    </tr>\n",
       "    <tr>\n",
       "      <th>pokedex</th>\n",
       "      <th></th>\n",
       "      <th></th>\n",
       "      <th></th>\n",
       "      <th></th>\n",
       "      <th></th>\n",
       "      <th></th>\n",
       "      <th></th>\n",
       "      <th></th>\n",
       "      <th></th>\n",
       "      <th></th>\n",
       "      <th></th>\n",
       "      <th></th>\n",
       "      <th></th>\n",
       "      <th></th>\n",
       "    </tr>\n",
       "  </thead>\n",
       "  <tbody>\n",
       "    <tr>\n",
       "      <th>888</th>\n",
       "      <td>Zacian Crowned Sword</td>\n",
       "      <td>8</td>\n",
       "      <td>Legendary</td>\n",
       "      <td>Fairy</td>\n",
       "      <td>Steel</td>\n",
       "      <td>2.8</td>\n",
       "      <td>355.0</td>\n",
       "      <td>Intrepid Sword</td>\n",
       "      <td>NaN</td>\n",
       "      <td>92</td>\n",
       "      <td>170</td>\n",
       "      <td>115</td>\n",
       "      <td>148</td>\n",
       "      <td>NaN</td>\n",
       "    </tr>\n",
       "  </tbody>\n",
       "</table>\n",
       "</div>"
      ],
      "text/plain": [
       "                         name  generation     status type_1 type_2  height_m  \\\n",
       "pokedex                                                                        \n",
       "888      Zacian Crowned Sword           8  Legendary  Fairy  Steel       2.8   \n",
       "\n",
       "         weight_kg       ability_1 ability_2  hp  attack  defense  speed  \\\n",
       "pokedex                                                                    \n",
       "888          355.0  Intrepid Sword       NaN  92     170      115    148   \n",
       "\n",
       "         catch_rate  \n",
       "pokedex              \n",
       "888             NaN  "
      ]
     },
     "execution_count": 15,
     "metadata": {},
     "output_type": "execute_result"
    }
   ],
   "source": [
    "dfLastGeneration[ dfLastGeneration[\"attack\"] == dfLastGeneration[\"attack\"].max() ]"
   ]
  },
  {
   "cell_type": "code",
   "execution_count": 16,
   "metadata": {},
   "outputs": [
    {
     "data": {
      "text/html": [
       "<div>\n",
       "<style scoped>\n",
       "    .dataframe tbody tr th:only-of-type {\n",
       "        vertical-align: middle;\n",
       "    }\n",
       "\n",
       "    .dataframe tbody tr th {\n",
       "        vertical-align: top;\n",
       "    }\n",
       "\n",
       "    .dataframe thead th {\n",
       "        text-align: right;\n",
       "    }\n",
       "</style>\n",
       "<table border=\"1\" class=\"dataframe\">\n",
       "  <thead>\n",
       "    <tr style=\"text-align: right;\">\n",
       "      <th></th>\n",
       "      <th>name</th>\n",
       "      <th>generation</th>\n",
       "      <th>status</th>\n",
       "      <th>type_1</th>\n",
       "      <th>type_2</th>\n",
       "      <th>height_m</th>\n",
       "      <th>weight_kg</th>\n",
       "      <th>ability_1</th>\n",
       "      <th>ability_2</th>\n",
       "      <th>hp</th>\n",
       "      <th>attack</th>\n",
       "      <th>defense</th>\n",
       "      <th>speed</th>\n",
       "      <th>catch_rate</th>\n",
       "    </tr>\n",
       "    <tr>\n",
       "      <th>pokedex</th>\n",
       "      <th></th>\n",
       "      <th></th>\n",
       "      <th></th>\n",
       "      <th></th>\n",
       "      <th></th>\n",
       "      <th></th>\n",
       "      <th></th>\n",
       "      <th></th>\n",
       "      <th></th>\n",
       "      <th></th>\n",
       "      <th></th>\n",
       "      <th></th>\n",
       "      <th></th>\n",
       "      <th></th>\n",
       "    </tr>\n",
       "  </thead>\n",
       "  <tbody>\n",
       "    <tr>\n",
       "      <th>890</th>\n",
       "      <td>Eternatus Eternamax</td>\n",
       "      <td>8</td>\n",
       "      <td>Legendary</td>\n",
       "      <td>Poison</td>\n",
       "      <td>Dragon</td>\n",
       "      <td>100.0</td>\n",
       "      <td>NaN</td>\n",
       "      <td>NaN</td>\n",
       "      <td>NaN</td>\n",
       "      <td>255</td>\n",
       "      <td>115</td>\n",
       "      <td>250</td>\n",
       "      <td>130</td>\n",
       "      <td>NaN</td>\n",
       "    </tr>\n",
       "  </tbody>\n",
       "</table>\n",
       "</div>"
      ],
      "text/plain": [
       "                        name  generation     status  type_1  type_2  height_m  \\\n",
       "pokedex                                                                         \n",
       "890      Eternatus Eternamax           8  Legendary  Poison  Dragon     100.0   \n",
       "\n",
       "         weight_kg ability_1 ability_2   hp  attack  defense  speed  \\\n",
       "pokedex                                                               \n",
       "890            NaN       NaN       NaN  255     115      250    130   \n",
       "\n",
       "         catch_rate  \n",
       "pokedex              \n",
       "890             NaN  "
      ]
     },
     "execution_count": 16,
     "metadata": {},
     "output_type": "execute_result"
    }
   ],
   "source": [
    "dfLastGeneration[ dfLastGeneration[\"defense\"] == dfLastGeneration[\"defense\"].max() ]"
   ]
  },
  {
   "cell_type": "markdown",
   "metadata": {},
   "source": [
    "## Question 3\n",
    "\n",
    "List the top three generations with the highest mean defense. \n",
    "\n",
    "Is the defense distribution significantly different among these three generations? Use appropriate plots to better justify your answer. [1 pt]"
   ]
  },
  {
   "cell_type": "markdown",
   "metadata": {},
   "source": [
    "We saw in Q2 that the \"defense\" column is an object, which is an indication that it may have strings. Let us check those strings and clean it."
   ]
  },
  {
   "cell_type": "code",
   "execution_count": 17,
   "metadata": {},
   "outputs": [
    {
     "data": {
      "text/html": [
       "<div>\n",
       "<style scoped>\n",
       "    .dataframe tbody tr th:only-of-type {\n",
       "        vertical-align: middle;\n",
       "    }\n",
       "\n",
       "    .dataframe tbody tr th {\n",
       "        vertical-align: top;\n",
       "    }\n",
       "\n",
       "    .dataframe thead th {\n",
       "        text-align: right;\n",
       "    }\n",
       "</style>\n",
       "<table border=\"1\" class=\"dataframe\">\n",
       "  <thead>\n",
       "    <tr style=\"text-align: right;\">\n",
       "      <th></th>\n",
       "      <th>name</th>\n",
       "      <th>generation</th>\n",
       "      <th>status</th>\n",
       "      <th>type_1</th>\n",
       "      <th>type_2</th>\n",
       "      <th>height_m</th>\n",
       "      <th>weight_kg</th>\n",
       "      <th>ability_1</th>\n",
       "      <th>ability_2</th>\n",
       "      <th>hp</th>\n",
       "      <th>attack</th>\n",
       "      <th>defense</th>\n",
       "      <th>speed</th>\n",
       "      <th>catch_rate</th>\n",
       "    </tr>\n",
       "    <tr>\n",
       "      <th>pokedex</th>\n",
       "      <th></th>\n",
       "      <th></th>\n",
       "      <th></th>\n",
       "      <th></th>\n",
       "      <th></th>\n",
       "      <th></th>\n",
       "      <th></th>\n",
       "      <th></th>\n",
       "      <th></th>\n",
       "      <th></th>\n",
       "      <th></th>\n",
       "      <th></th>\n",
       "      <th></th>\n",
       "      <th></th>\n",
       "    </tr>\n",
       "  </thead>\n",
       "  <tbody>\n",
       "    <tr>\n",
       "      <th>500</th>\n",
       "      <td>Emboar</td>\n",
       "      <td>5</td>\n",
       "      <td>Normal</td>\n",
       "      <td>Fire</td>\n",
       "      <td>Fighting</td>\n",
       "      <td>1.6</td>\n",
       "      <td>150.0</td>\n",
       "      <td>Blaze</td>\n",
       "      <td>NaN</td>\n",
       "      <td>110</td>\n",
       "      <td>123</td>\n",
       "      <td>Error Export</td>\n",
       "      <td>65</td>\n",
       "      <td>45.0</td>\n",
       "    </tr>\n",
       "  </tbody>\n",
       "</table>\n",
       "</div>"
      ],
      "text/plain": [
       "           name  generation  status type_1    type_2  height_m  weight_kg  \\\n",
       "pokedex                                                                     \n",
       "500      Emboar           5  Normal   Fire  Fighting       1.6      150.0   \n",
       "\n",
       "        ability_1 ability_2   hp attack       defense  speed  catch_rate  \n",
       "pokedex                                                                   \n",
       "500         Blaze       NaN  110    123  Error Export     65        45.0  "
      ]
     },
     "execution_count": 17,
     "metadata": {},
     "output_type": "execute_result"
    }
   ],
   "source": [
    "# Both are object / may contain strings! Let's investigate\n",
    "\n",
    "def is_number(x):\n",
    "    try:\n",
    "        float(x)\n",
    "    except ValueError:\n",
    "        return False\n",
    "    else:\n",
    "        return True\n",
    "\n",
    "dfPokemon[ ~(dfPokemon[\"defense\"].apply(is_number)) ]"
   ]
  },
  {
   "cell_type": "markdown",
   "metadata": {},
   "source": [
    "There is an \"Error Export\" - only one! We now clean it and check the NaN"
   ]
  },
  {
   "cell_type": "code",
   "execution_count": 18,
   "metadata": {},
   "outputs": [
    {
     "data": {
      "text/plain": [
       "1"
      ]
     },
     "execution_count": 18,
     "metadata": {},
     "output_type": "execute_result"
    }
   ],
   "source": [
    "# Fix the string issue\n",
    "dfPokemon[\"defense\"] = pd.to_numeric(dfPokemon[\"defense\"], errors=\"coerce\")\n",
    "\n",
    "# Check the NaN\n",
    "dfPokemon[\"defense\"].isnull().sum()"
   ]
  },
  {
   "cell_type": "code",
   "execution_count": 19,
   "metadata": {},
   "outputs": [
    {
     "data": {
      "text/plain": [
       "0"
      ]
     },
     "execution_count": 19,
     "metadata": {},
     "output_type": "execute_result"
    }
   ],
   "source": [
    "# Only one: we can drop it!\n",
    "dfPokemonClean = dfPokemon.dropna(axis=0, subset=[\"defense\"])\n",
    "dfPokemonClean[\"defense\"].isnull().sum()"
   ]
  },
  {
   "cell_type": "code",
   "execution_count": 20,
   "metadata": {},
   "outputs": [
    {
     "data": {
      "text/html": [
       "<div>\n",
       "<style scoped>\n",
       "    .dataframe tbody tr th:only-of-type {\n",
       "        vertical-align: middle;\n",
       "    }\n",
       "\n",
       "    .dataframe tbody tr th {\n",
       "        vertical-align: top;\n",
       "    }\n",
       "\n",
       "    .dataframe thead th {\n",
       "        text-align: right;\n",
       "    }\n",
       "</style>\n",
       "<table border=\"1\" class=\"dataframe\">\n",
       "  <thead>\n",
       "    <tr style=\"text-align: right;\">\n",
       "      <th></th>\n",
       "      <th>defense</th>\n",
       "    </tr>\n",
       "    <tr>\n",
       "      <th>generation</th>\n",
       "      <th></th>\n",
       "    </tr>\n",
       "  </thead>\n",
       "  <tbody>\n",
       "    <tr>\n",
       "      <th>7</th>\n",
       "      <td>79.202020</td>\n",
       "    </tr>\n",
       "    <tr>\n",
       "      <th>4</th>\n",
       "      <td>78.132231</td>\n",
       "    </tr>\n",
       "    <tr>\n",
       "      <th>6</th>\n",
       "      <td>77.023529</td>\n",
       "    </tr>\n",
       "  </tbody>\n",
       "</table>\n",
       "</div>"
      ],
      "text/plain": [
       "              defense\n",
       "generation           \n",
       "7           79.202020\n",
       "4           78.132231\n",
       "6           77.023529"
      ]
     },
     "execution_count": 20,
     "metadata": {},
     "output_type": "execute_result"
    }
   ],
   "source": [
    "# Finally, let's calculate the top-three generations with the highest mean\n",
    "\n",
    "# Get a data frame with the mean defenses by grouping\n",
    "dfDefense = dfPokemonClean.groupby(\"generation\")[[\"defense\"]].mean()\n",
    "\n",
    "# Obtain top-three\n",
    "dfTopThree = dfDefense.sort_values(by=\"defense\", ascending=False).head(3)\n",
    "dfTopThree"
   ]
  },
  {
   "cell_type": "code",
   "execution_count": 21,
   "metadata": {},
   "outputs": [
    {
     "data": {
      "image/png": "[encoded data removed]",
      "text/plain": [
       "<Figure size 640x480 with 1 Axes>"
      ]
     },
     "metadata": {},
     "output_type": "display_data"
    },
    {
     "data": {
      "image/png": "[encoded data removed]",
      "text/plain": [
       "<Figure size 640x480 with 1 Axes>"
      ]
     },
     "metadata": {},
     "output_type": "display_data"
    }
   ],
   "source": [
    "# Let's do a bar chart and pie chart to best visualize them\n",
    "dfTopThree[\"defense\"].plot.bar()\n",
    "plt.xlabel(\"Generation\")\n",
    "plt.ylabel(\"Defense\")\n",
    "plt.show()\n",
    "\n",
    "dfTopThree[\"defense\"].plot.pie(autopct=\"%.1f%%\")\n",
    "plt.xlabel(\"Generation\")\n",
    "plt.show()"
   ]
  },
  {
   "cell_type": "markdown",
   "metadata": {},
   "source": [
    "The highest-defense generations are 7, 4, and 6 (in order). However, they are very similar with respect to their means. We can also create a boxplot to better compare their distributions."
   ]
  },
  {
   "cell_type": "code",
   "execution_count": 22,
   "metadata": {},
   "outputs": [
    {
     "data": {
      "image/png": "[encoded data removed]",
      "text/plain": [
       "<Figure size 640x480 with 1 Axes>"
      ]
     },
     "metadata": {},
     "output_type": "display_data"
    }
   ],
   "source": [
    "# A box plot would be really helpful too\n",
    "topgenerations = dfTopThree.index\n",
    "data = []\n",
    "for generation in topgenerations:\n",
    "    data.append(dfPokemonClean[dfPokemonClean[\"generation\"] == generation][\"defense\"])\n",
    "plt.boxplot(data, labels=topgenerations)\n",
    "plt.ylabel(\"Defense\")\n",
    "plt.xlabel(\"Generation\")\n",
    "plt.show()"
   ]
  },
  {
   "cell_type": "markdown",
   "metadata": {},
   "source": [
    "All top-three generations are somewhat similar in their defense, except that generation 4 has a somewhat wider distribution/larger standard deviation."
   ]
  },
  {
   "cell_type": "markdown",
   "metadata": {},
   "source": [
    "## Question 4\n",
    "\n",
    "Do Pokemon of two types have better attack rates than the ones that have only one type? [2 pts]\n",
    "\n",
    "Use appropriate plots to justify your answer. "
   ]
  },
  {
   "cell_type": "markdown",
   "metadata": {},
   "source": [
    "Similar to Q2 and Q3, we start by cleaning the ''attack'' column."
   ]
  },
  {
   "cell_type": "code",
   "execution_count": 23,
   "metadata": {},
   "outputs": [
    {
     "data": {
      "text/html": [
       "<div>\n",
       "<style scoped>\n",
       "    .dataframe tbody tr th:only-of-type {\n",
       "        vertical-align: middle;\n",
       "    }\n",
       "\n",
       "    .dataframe tbody tr th {\n",
       "        vertical-align: top;\n",
       "    }\n",
       "\n",
       "    .dataframe thead th {\n",
       "        text-align: right;\n",
       "    }\n",
       "</style>\n",
       "<table border=\"1\" class=\"dataframe\">\n",
       "  <thead>\n",
       "    <tr style=\"text-align: right;\">\n",
       "      <th></th>\n",
       "      <th>name</th>\n",
       "      <th>generation</th>\n",
       "      <th>status</th>\n",
       "      <th>type_1</th>\n",
       "      <th>type_2</th>\n",
       "      <th>height_m</th>\n",
       "      <th>weight_kg</th>\n",
       "      <th>ability_1</th>\n",
       "      <th>ability_2</th>\n",
       "      <th>hp</th>\n",
       "      <th>attack</th>\n",
       "      <th>defense</th>\n",
       "      <th>speed</th>\n",
       "      <th>catch_rate</th>\n",
       "    </tr>\n",
       "    <tr>\n",
       "      <th>pokedex</th>\n",
       "      <th></th>\n",
       "      <th></th>\n",
       "      <th></th>\n",
       "      <th></th>\n",
       "      <th></th>\n",
       "      <th></th>\n",
       "      <th></th>\n",
       "      <th></th>\n",
       "      <th></th>\n",
       "      <th></th>\n",
       "      <th></th>\n",
       "      <th></th>\n",
       "      <th></th>\n",
       "      <th></th>\n",
       "    </tr>\n",
       "  </thead>\n",
       "  <tbody>\n",
       "    <tr>\n",
       "      <th>215</th>\n",
       "      <td>Sneasel</td>\n",
       "      <td>2</td>\n",
       "      <td>Normal</td>\n",
       "      <td>Dark</td>\n",
       "      <td>Ice</td>\n",
       "      <td>0.9</td>\n",
       "      <td>28.0</td>\n",
       "      <td>Inner Focus</td>\n",
       "      <td>Keen Eye</td>\n",
       "      <td>55</td>\n",
       "      <td>Error export</td>\n",
       "      <td>55.0</td>\n",
       "      <td>115</td>\n",
       "      <td>60.0</td>\n",
       "    </tr>\n",
       "  </tbody>\n",
       "</table>\n",
       "</div>"
      ],
      "text/plain": [
       "            name  generation  status type_1 type_2  height_m  weight_kg  \\\n",
       "pokedex                                                                   \n",
       "215      Sneasel           2  Normal   Dark    Ice       0.9       28.0   \n",
       "\n",
       "           ability_1 ability_2  hp        attack  defense  speed  catch_rate  \n",
       "pokedex                                                                       \n",
       "215      Inner Focus  Keen Eye  55  Error export     55.0    115        60.0  "
      ]
     },
     "execution_count": 23,
     "metadata": {},
     "output_type": "execute_result"
    }
   ],
   "source": [
    "# Check the rows with strings\n",
    "dfPokemon[~(dfPokemon[\"attack\"].apply(is_number))]"
   ]
  },
  {
   "cell_type": "code",
   "execution_count": 24,
   "metadata": {},
   "outputs": [
    {
     "data": {
      "text/plain": [
       "1"
      ]
     },
     "execution_count": 24,
     "metadata": {},
     "output_type": "execute_result"
    }
   ],
   "source": [
    "# Only one numeric - we now clean it\n",
    "dfPokemon[\"attack\"] = pd.to_numeric(dfPokemon[\"attack\"], errors=\"coerce\")\n",
    "\n",
    "# Check NaNs\n",
    "dfPokemon[\"attack\"].isnull().sum()"
   ]
  },
  {
   "cell_type": "code",
   "execution_count": 25,
   "metadata": {},
   "outputs": [
    {
     "data": {
      "text/plain": [
       "0"
      ]
     },
     "execution_count": 25,
     "metadata": {},
     "output_type": "execute_result"
    }
   ],
   "source": [
    "# Only one added by the attack fix. We drop it\n",
    "dfPokemonClean = dfPokemon.dropna(axis=0, subset=[\"attack\"])\n",
    "dfPokemonClean[\"attack\"].isnull().sum()"
   ]
  },
  {
   "cell_type": "code",
   "execution_count": 26,
   "metadata": {},
   "outputs": [
    {
     "name": "stdout",
     "output_type": "stream",
     "text": [
      "Type 1 NaN: 0\n"
     ]
    }
   ],
   "source": [
    "# Now we check type_1\n",
    "print(\"Type 1 NaN: \" + str(dfPokemonClean[\"type_1\"].isnull().sum()))"
   ]
  },
  {
   "cell_type": "code",
   "execution_count": 27,
   "metadata": {},
   "outputs": [],
   "source": [
    "# We now collect the one and two-type Pokemon. \n",
    "# A Pokemon has two types if both type_1 and type_2 are not NaN\n",
    "\n",
    "dfType1 = dfPokemonClean[   dfPokemonClean[\"type_2\"].isnull()  ]\n",
    "dfType2 = dfPokemonClean[ ~(dfPokemonClean[\"type_2\"].isnull()) ]"
   ]
  },
  {
   "cell_type": "code",
   "execution_count": 28,
   "metadata": {},
   "outputs": [
    {
     "name": "stdout",
     "output_type": "stream",
     "text": [
      "Type 1: \n",
      "count    486.000000\n",
      "mean      75.415638\n",
      "std       30.766297\n",
      "min        5.000000\n",
      "25%       53.000000\n",
      "50%       71.000000\n",
      "75%       95.000000\n",
      "max      180.000000\n",
      "Name: attack, dtype: float64\n",
      "\n",
      "Type 2: \n",
      "count    541.00000\n",
      "mean      84.31793\n",
      "std       33.24063\n",
      "min       10.00000\n",
      "25%       60.00000\n",
      "50%       81.00000\n",
      "75%      105.00000\n",
      "max      190.00000\n",
      "Name: attack, dtype: float64\n"
     ]
    }
   ],
   "source": [
    "# Let's compare the distribution of the attacks\n",
    "\n",
    "print(\"Type 1: \")\n",
    "print( dfType1[\"attack\"].describe() )\n",
    "\n",
    "print(\"\\nType 2: \")\n",
    "print( dfType2[\"attack\"].describe() )"
   ]
  },
  {
   "cell_type": "code",
   "execution_count": 29,
   "metadata": {},
   "outputs": [
    {
     "data": {
      "image/png": "[encoded data removed]",
      "text/plain": [
       "<Figure size 640x480 with 1 Axes>"
      ]
     },
     "metadata": {},
     "output_type": "display_data"
    }
   ],
   "source": [
    "# We can also use box plots to compare their distributions\n",
    "data = [ dfType1[\"attack\"], dfType2[\"attack\"] ]\n",
    "plt.boxplot(data, labels=[\"Type 1\", \"Type 2\"])\n",
    "plt.xlabel(\"Types\")\n",
    "plt.ylabel(\"Attack\")\n",
    "plt.show()"
   ]
  },
  {
   "cell_type": "markdown",
   "metadata": {},
   "source": [
    "Type 2 are slightly stronger than Type 1, with larger mean (84 vs. 75) and comparable standard deviation (~ 33)."
   ]
  },
  {
   "cell_type": "code",
   "execution_count": null,
   "metadata": {},
   "outputs": [],
   "source": []
  },
  {
   "cell_type": "code",
   "execution_count": null,
   "metadata": {},
   "outputs": [],
   "source": []
  },
  {
   "cell_type": "markdown",
   "metadata": {},
   "source": [
    "## Question 5\n",
    "\n",
    "In a Pokemon conference meeting, one attendee mentioned that Pokemon who have a higher weight also are slower. Albeit intuitive, another attendee mentioned that it was just a myth, as weight did not really impact Pokemon speed. \n",
    "\n",
    "Who is right? Use data to provide strong evidence for one side or the other. [2 pts]"
   ]
  },
  {
   "cell_type": "markdown",
   "metadata": {},
   "source": [
    "Here we want to calculate the correlation between weight and speed. Let's start analyzing each column separately to understand them better, and then perform the correlation analysis."
   ]
  },
  {
   "cell_type": "markdown",
   "metadata": {},
   "source": [
    "<i>Data Cleaning</i>"
   ]
  },
  {
   "cell_type": "code",
   "execution_count": 30,
   "metadata": {},
   "outputs": [
    {
     "data": {
      "text/html": [
       "<div>\n",
       "<style scoped>\n",
       "    .dataframe tbody tr th:only-of-type {\n",
       "        vertical-align: middle;\n",
       "    }\n",
       "\n",
       "    .dataframe tbody tr th {\n",
       "        vertical-align: top;\n",
       "    }\n",
       "\n",
       "    .dataframe thead th {\n",
       "        text-align: right;\n",
       "    }\n",
       "</style>\n",
       "<table border=\"1\" class=\"dataframe\">\n",
       "  <thead>\n",
       "    <tr style=\"text-align: right;\">\n",
       "      <th></th>\n",
       "      <th>name</th>\n",
       "      <th>generation</th>\n",
       "      <th>status</th>\n",
       "      <th>type_1</th>\n",
       "      <th>type_2</th>\n",
       "      <th>height_m</th>\n",
       "      <th>weight_kg</th>\n",
       "      <th>ability_1</th>\n",
       "      <th>ability_2</th>\n",
       "      <th>hp</th>\n",
       "      <th>attack</th>\n",
       "      <th>defense</th>\n",
       "      <th>speed</th>\n",
       "      <th>catch_rate</th>\n",
       "    </tr>\n",
       "    <tr>\n",
       "      <th>pokedex</th>\n",
       "      <th></th>\n",
       "      <th></th>\n",
       "      <th></th>\n",
       "      <th></th>\n",
       "      <th></th>\n",
       "      <th></th>\n",
       "      <th></th>\n",
       "      <th></th>\n",
       "      <th></th>\n",
       "      <th></th>\n",
       "      <th></th>\n",
       "      <th></th>\n",
       "      <th></th>\n",
       "      <th></th>\n",
       "    </tr>\n",
       "  </thead>\n",
       "  <tbody>\n",
       "    <tr>\n",
       "      <th>890</th>\n",
       "      <td>Eternatus Eternamax</td>\n",
       "      <td>8</td>\n",
       "      <td>Legendary</td>\n",
       "      <td>Poison</td>\n",
       "      <td>Dragon</td>\n",
       "      <td>100.0</td>\n",
       "      <td>NaN</td>\n",
       "      <td>NaN</td>\n",
       "      <td>NaN</td>\n",
       "      <td>255</td>\n",
       "      <td>115.0</td>\n",
       "      <td>250.0</td>\n",
       "      <td>130</td>\n",
       "      <td>NaN</td>\n",
       "    </tr>\n",
       "  </tbody>\n",
       "</table>\n",
       "</div>"
      ],
      "text/plain": [
       "                        name  generation     status  type_1  type_2  height_m  \\\n",
       "pokedex                                                                         \n",
       "890      Eternatus Eternamax           8  Legendary  Poison  Dragon     100.0   \n",
       "\n",
       "         weight_kg ability_1 ability_2   hp  attack  defense  speed  \\\n",
       "pokedex                                                               \n",
       "890            NaN       NaN       NaN  255   115.0    250.0    130   \n",
       "\n",
       "         catch_rate  \n",
       "pokedex              \n",
       "890             NaN  "
      ]
     },
     "execution_count": 30,
     "metadata": {},
     "output_type": "execute_result"
    }
   ],
   "source": [
    "dfPokemon[ dfPokemon[\"weight_kg\"].isnull() ]"
   ]
  },
  {
   "cell_type": "code",
   "execution_count": 31,
   "metadata": {},
   "outputs": [
    {
     "data": {
      "text/html": [
       "<div>\n",
       "<style scoped>\n",
       "    .dataframe tbody tr th:only-of-type {\n",
       "        vertical-align: middle;\n",
       "    }\n",
       "\n",
       "    .dataframe tbody tr th {\n",
       "        vertical-align: top;\n",
       "    }\n",
       "\n",
       "    .dataframe thead th {\n",
       "        text-align: right;\n",
       "    }\n",
       "</style>\n",
       "<table border=\"1\" class=\"dataframe\">\n",
       "  <thead>\n",
       "    <tr style=\"text-align: right;\">\n",
       "      <th></th>\n",
       "      <th>name</th>\n",
       "      <th>generation</th>\n",
       "      <th>status</th>\n",
       "      <th>type_1</th>\n",
       "      <th>type_2</th>\n",
       "      <th>height_m</th>\n",
       "      <th>weight_kg</th>\n",
       "      <th>ability_1</th>\n",
       "      <th>ability_2</th>\n",
       "      <th>hp</th>\n",
       "      <th>attack</th>\n",
       "      <th>defense</th>\n",
       "      <th>speed</th>\n",
       "      <th>catch_rate</th>\n",
       "    </tr>\n",
       "    <tr>\n",
       "      <th>pokedex</th>\n",
       "      <th></th>\n",
       "      <th></th>\n",
       "      <th></th>\n",
       "      <th></th>\n",
       "      <th></th>\n",
       "      <th></th>\n",
       "      <th></th>\n",
       "      <th></th>\n",
       "      <th></th>\n",
       "      <th></th>\n",
       "      <th></th>\n",
       "      <th></th>\n",
       "      <th></th>\n",
       "      <th></th>\n",
       "    </tr>\n",
       "  </thead>\n",
       "  <tbody>\n",
       "  </tbody>\n",
       "</table>\n",
       "</div>"
      ],
      "text/plain": [
       "Empty DataFrame\n",
       "Columns: [name, generation, status, type_1, type_2, height_m, weight_kg, ability_1, ability_2, hp, attack, defense, speed, catch_rate]\n",
       "Index: []"
      ]
     },
     "execution_count": 31,
     "metadata": {},
     "output_type": "execute_result"
    }
   ],
   "source": [
    "dfPokemon[ dfPokemon[\"speed\"].isnull() ]"
   ]
  },
  {
   "cell_type": "code",
   "execution_count": 32,
   "metadata": {},
   "outputs": [],
   "source": [
    "# Only one for weight, we will exclude it (although we could also search it online)\n",
    "dfPokemonClean = dfPokemon.dropna(subset=[\"weight_kg\"])"
   ]
  },
  {
   "cell_type": "code",
   "execution_count": 33,
   "metadata": {},
   "outputs": [
    {
     "data": {
      "text/plain": [
       "weight_kg    float64\n",
       "speed          int64\n",
       "dtype: object"
      ]
     },
     "execution_count": 33,
     "metadata": {},
     "output_type": "execute_result"
    }
   ],
   "source": [
    "# Check the types\n",
    "dfPokemonClean[[\"weight_kg\", \"speed\"]].dtypes"
   ]
  },
  {
   "cell_type": "markdown",
   "metadata": {},
   "source": [
    "<i>Weight Analysis</i>"
   ]
  },
  {
   "cell_type": "code",
   "execution_count": 34,
   "metadata": {},
   "outputs": [
    {
     "data": {
      "image/png": "[encoded data removed]",
      "text/plain": [
       "<Figure size 640x480 with 1 Axes>"
      ]
     },
     "metadata": {},
     "output_type": "display_data"
    },
    {
     "data": {
      "text/plain": [
       "count    1027.000000\n",
       "mean       69.753749\n",
       "std       129.221230\n",
       "min         0.100000\n",
       "25%         8.800000\n",
       "50%        28.500000\n",
       "75%        69.100000\n",
       "max       999.900000\n",
       "Name: weight_kg, dtype: float64"
      ]
     },
     "execution_count": 34,
     "metadata": {},
     "output_type": "execute_result"
    }
   ],
   "source": [
    "dfPokemonClean[\"weight_kg\"].plot.hist()\n",
    "plt.ylabel(\"Frequency\")\n",
    "plt.show()\n",
    "\n",
    "dfPokemonClean[\"weight_kg\"].describe()"
   ]
  },
  {
   "cell_type": "code",
   "execution_count": 35,
   "metadata": {},
   "outputs": [
    {
     "name": "stdout",
     "output_type": "stream",
     "text": [
      "% of extreme values:  2.239532619279455\n"
     ]
    },
    {
     "data": {
      "text/html": [
       "<div>\n",
       "<style scoped>\n",
       "    .dataframe tbody tr th:only-of-type {\n",
       "        vertical-align: middle;\n",
       "    }\n",
       "\n",
       "    .dataframe tbody tr th {\n",
       "        vertical-align: top;\n",
       "    }\n",
       "\n",
       "    .dataframe thead th {\n",
       "        text-align: right;\n",
       "    }\n",
       "</style>\n",
       "<table border=\"1\" class=\"dataframe\">\n",
       "  <thead>\n",
       "    <tr style=\"text-align: right;\">\n",
       "      <th></th>\n",
       "      <th>name</th>\n",
       "      <th>generation</th>\n",
       "      <th>status</th>\n",
       "      <th>type_1</th>\n",
       "      <th>type_2</th>\n",
       "      <th>height_m</th>\n",
       "      <th>weight_kg</th>\n",
       "      <th>ability_1</th>\n",
       "      <th>ability_2</th>\n",
       "      <th>hp</th>\n",
       "      <th>attack</th>\n",
       "      <th>defense</th>\n",
       "      <th>speed</th>\n",
       "      <th>catch_rate</th>\n",
       "    </tr>\n",
       "    <tr>\n",
       "      <th>pokedex</th>\n",
       "      <th></th>\n",
       "      <th></th>\n",
       "      <th></th>\n",
       "      <th></th>\n",
       "      <th></th>\n",
       "      <th></th>\n",
       "      <th></th>\n",
       "      <th></th>\n",
       "      <th></th>\n",
       "      <th></th>\n",
       "      <th></th>\n",
       "      <th></th>\n",
       "      <th></th>\n",
       "      <th></th>\n",
       "    </tr>\n",
       "  </thead>\n",
       "  <tbody>\n",
       "    <tr>\n",
       "      <th>143</th>\n",
       "      <td>Snorlax</td>\n",
       "      <td>1</td>\n",
       "      <td>Normal</td>\n",
       "      <td>Normal</td>\n",
       "      <td>NaN</td>\n",
       "      <td>2.1</td>\n",
       "      <td>460.0</td>\n",
       "      <td>Immunity</td>\n",
       "      <td>Thick Fat</td>\n",
       "      <td>160</td>\n",
       "      <td>110.0</td>\n",
       "      <td>65.0</td>\n",
       "      <td>30</td>\n",
       "      <td>25.0</td>\n",
       "    </tr>\n",
       "    <tr>\n",
       "      <th>208</th>\n",
       "      <td>Mega Steelix</td>\n",
       "      <td>2</td>\n",
       "      <td>Normal</td>\n",
       "      <td>Steel</td>\n",
       "      <td>Ground</td>\n",
       "      <td>10.5</td>\n",
       "      <td>740.0</td>\n",
       "      <td>Sand Force</td>\n",
       "      <td>NaN</td>\n",
       "      <td>75</td>\n",
       "      <td>125.0</td>\n",
       "      <td>230.0</td>\n",
       "      <td>30</td>\n",
       "      <td>25.0</td>\n",
       "    </tr>\n",
       "    <tr>\n",
       "      <th>376</th>\n",
       "      <td>Metagross</td>\n",
       "      <td>3</td>\n",
       "      <td>Normal</td>\n",
       "      <td>Steel</td>\n",
       "      <td>Psychic</td>\n",
       "      <td>1.6</td>\n",
       "      <td>550.0</td>\n",
       "      <td>Clear Body</td>\n",
       "      <td>NaN</td>\n",
       "      <td>80</td>\n",
       "      <td>135.0</td>\n",
       "      <td>130.0</td>\n",
       "      <td>70</td>\n",
       "      <td>3.0</td>\n",
       "    </tr>\n",
       "    <tr>\n",
       "      <th>376</th>\n",
       "      <td>Mega Metagross</td>\n",
       "      <td>3</td>\n",
       "      <td>Normal</td>\n",
       "      <td>Steel</td>\n",
       "      <td>Psychic</td>\n",
       "      <td>2.5</td>\n",
       "      <td>942.9</td>\n",
       "      <td>Tough Claws</td>\n",
       "      <td>NaN</td>\n",
       "      <td>80</td>\n",
       "      <td>145.0</td>\n",
       "      <td>150.0</td>\n",
       "      <td>110</td>\n",
       "      <td>3.0</td>\n",
       "    </tr>\n",
       "    <tr>\n",
       "      <th>383</th>\n",
       "      <td>Groudon</td>\n",
       "      <td>3</td>\n",
       "      <td>Legendary</td>\n",
       "      <td>Ground</td>\n",
       "      <td>NaN</td>\n",
       "      <td>3.5</td>\n",
       "      <td>950.0</td>\n",
       "      <td>Drought</td>\n",
       "      <td>NaN</td>\n",
       "      <td>100</td>\n",
       "      <td>150.0</td>\n",
       "      <td>140.0</td>\n",
       "      <td>90</td>\n",
       "      <td>3.0</td>\n",
       "    </tr>\n",
       "    <tr>\n",
       "      <th>383</th>\n",
       "      <td>Primal Groudon</td>\n",
       "      <td>3</td>\n",
       "      <td>Legendary</td>\n",
       "      <td>Ground</td>\n",
       "      <td>Fire</td>\n",
       "      <td>5.0</td>\n",
       "      <td>999.7</td>\n",
       "      <td>Desolate Land</td>\n",
       "      <td>NaN</td>\n",
       "      <td>100</td>\n",
       "      <td>180.0</td>\n",
       "      <td>160.0</td>\n",
       "      <td>90</td>\n",
       "      <td>5.0</td>\n",
       "    </tr>\n",
       "    <tr>\n",
       "      <th>483</th>\n",
       "      <td>Dialga</td>\n",
       "      <td>4</td>\n",
       "      <td>Legendary</td>\n",
       "      <td>Steel</td>\n",
       "      <td>Dragon</td>\n",
       "      <td>5.4</td>\n",
       "      <td>683.0</td>\n",
       "      <td>Pressure</td>\n",
       "      <td>NaN</td>\n",
       "      <td>100</td>\n",
       "      <td>120.0</td>\n",
       "      <td>120.0</td>\n",
       "      <td>90</td>\n",
       "      <td>3.0</td>\n",
       "    </tr>\n",
       "    <tr>\n",
       "      <th>487</th>\n",
       "      <td>Giratina Altered Forme</td>\n",
       "      <td>4</td>\n",
       "      <td>Legendary</td>\n",
       "      <td>Ghost</td>\n",
       "      <td>Dragon</td>\n",
       "      <td>4.5</td>\n",
       "      <td>750.0</td>\n",
       "      <td>Pressure</td>\n",
       "      <td>NaN</td>\n",
       "      <td>150</td>\n",
       "      <td>100.0</td>\n",
       "      <td>120.0</td>\n",
       "      <td>90</td>\n",
       "      <td>3.0</td>\n",
       "    </tr>\n",
       "    <tr>\n",
       "      <th>487</th>\n",
       "      <td>Giratina Origin Forme</td>\n",
       "      <td>4</td>\n",
       "      <td>Legendary</td>\n",
       "      <td>Ghost</td>\n",
       "      <td>Dragon</td>\n",
       "      <td>6.9</td>\n",
       "      <td>650.0</td>\n",
       "      <td>Levitate</td>\n",
       "      <td>NaN</td>\n",
       "      <td>150</td>\n",
       "      <td>120.0</td>\n",
       "      <td>100.0</td>\n",
       "      <td>90</td>\n",
       "      <td>3.0</td>\n",
       "    </tr>\n",
       "    <tr>\n",
       "      <th>713</th>\n",
       "      <td>Avalugg</td>\n",
       "      <td>6</td>\n",
       "      <td>Normal</td>\n",
       "      <td>Ice</td>\n",
       "      <td>NaN</td>\n",
       "      <td>2.0</td>\n",
       "      <td>505.0</td>\n",
       "      <td>Own Tempo</td>\n",
       "      <td>Ice Body</td>\n",
       "      <td>95</td>\n",
       "      <td>117.0</td>\n",
       "      <td>184.0</td>\n",
       "      <td>28</td>\n",
       "      <td>55.0</td>\n",
       "    </tr>\n",
       "    <tr>\n",
       "      <th>718</th>\n",
       "      <td>Zygarde Complete Forme</td>\n",
       "      <td>6</td>\n",
       "      <td>Legendary</td>\n",
       "      <td>Dragon</td>\n",
       "      <td>Ground</td>\n",
       "      <td>4.5</td>\n",
       "      <td>610.0</td>\n",
       "      <td>Power Construct</td>\n",
       "      <td>NaN</td>\n",
       "      <td>216</td>\n",
       "      <td>100.0</td>\n",
       "      <td>121.0</td>\n",
       "      <td>85</td>\n",
       "      <td>3.0</td>\n",
       "    </tr>\n",
       "    <tr>\n",
       "      <th>720</th>\n",
       "      <td>Hoopa Hoopa Unbound</td>\n",
       "      <td>6</td>\n",
       "      <td>Mythical</td>\n",
       "      <td>Psychic</td>\n",
       "      <td>Dark</td>\n",
       "      <td>6.5</td>\n",
       "      <td>490.0</td>\n",
       "      <td>Magician</td>\n",
       "      <td>NaN</td>\n",
       "      <td>80</td>\n",
       "      <td>160.0</td>\n",
       "      <td>60.0</td>\n",
       "      <td>80</td>\n",
       "      <td>3.0</td>\n",
       "    </tr>\n",
       "    <tr>\n",
       "      <th>750</th>\n",
       "      <td>Mudsdale</td>\n",
       "      <td>7</td>\n",
       "      <td>Normal</td>\n",
       "      <td>Ground</td>\n",
       "      <td>NaN</td>\n",
       "      <td>2.5</td>\n",
       "      <td>920.0</td>\n",
       "      <td>Own Tempo</td>\n",
       "      <td>Stamina</td>\n",
       "      <td>100</td>\n",
       "      <td>125.0</td>\n",
       "      <td>100.0</td>\n",
       "      <td>35</td>\n",
       "      <td>60.0</td>\n",
       "    </tr>\n",
       "    <tr>\n",
       "      <th>790</th>\n",
       "      <td>Cosmoem</td>\n",
       "      <td>7</td>\n",
       "      <td>Legendary</td>\n",
       "      <td>Psychic</td>\n",
       "      <td>NaN</td>\n",
       "      <td>0.1</td>\n",
       "      <td>999.9</td>\n",
       "      <td>Sturdy</td>\n",
       "      <td>NaN</td>\n",
       "      <td>43</td>\n",
       "      <td>29.0</td>\n",
       "      <td>131.0</td>\n",
       "      <td>37</td>\n",
       "      <td>45.0</td>\n",
       "    </tr>\n",
       "    <tr>\n",
       "      <th>797</th>\n",
       "      <td>Celesteela</td>\n",
       "      <td>7</td>\n",
       "      <td>Sub Legendary</td>\n",
       "      <td>Steel</td>\n",
       "      <td>Flying</td>\n",
       "      <td>9.2</td>\n",
       "      <td>999.9</td>\n",
       "      <td>Beast Boost</td>\n",
       "      <td>NaN</td>\n",
       "      <td>97</td>\n",
       "      <td>101.0</td>\n",
       "      <td>103.0</td>\n",
       "      <td>61</td>\n",
       "      <td>45.0</td>\n",
       "    </tr>\n",
       "    <tr>\n",
       "      <th>799</th>\n",
       "      <td>Guzzlord</td>\n",
       "      <td>7</td>\n",
       "      <td>Sub Legendary</td>\n",
       "      <td>Dark</td>\n",
       "      <td>Dragon</td>\n",
       "      <td>5.5</td>\n",
       "      <td>888.0</td>\n",
       "      <td>Beast Boost</td>\n",
       "      <td>NaN</td>\n",
       "      <td>223</td>\n",
       "      <td>101.0</td>\n",
       "      <td>53.0</td>\n",
       "      <td>43</td>\n",
       "      <td>45.0</td>\n",
       "    </tr>\n",
       "    <tr>\n",
       "      <th>800</th>\n",
       "      <td>Dusk Mane Necrozma</td>\n",
       "      <td>7</td>\n",
       "      <td>Legendary</td>\n",
       "      <td>Psychic</td>\n",
       "      <td>Steel</td>\n",
       "      <td>3.8</td>\n",
       "      <td>460.0</td>\n",
       "      <td>Prism Armor</td>\n",
       "      <td>NaN</td>\n",
       "      <td>97</td>\n",
       "      <td>157.0</td>\n",
       "      <td>127.0</td>\n",
       "      <td>77</td>\n",
       "      <td>3.0</td>\n",
       "    </tr>\n",
       "    <tr>\n",
       "      <th>805</th>\n",
       "      <td>Stakataka</td>\n",
       "      <td>7</td>\n",
       "      <td>Sub Legendary</td>\n",
       "      <td>Rock</td>\n",
       "      <td>Steel</td>\n",
       "      <td>5.5</td>\n",
       "      <td>820.0</td>\n",
       "      <td>Beast Boost</td>\n",
       "      <td>NaN</td>\n",
       "      <td>61</td>\n",
       "      <td>131.0</td>\n",
       "      <td>211.0</td>\n",
       "      <td>13</td>\n",
       "      <td>30.0</td>\n",
       "    </tr>\n",
       "    <tr>\n",
       "      <th>809</th>\n",
       "      <td>Melmetal</td>\n",
       "      <td>7</td>\n",
       "      <td>Mythical</td>\n",
       "      <td>Steel</td>\n",
       "      <td>NaN</td>\n",
       "      <td>2.5</td>\n",
       "      <td>800.0</td>\n",
       "      <td>Iron Fist</td>\n",
       "      <td>NaN</td>\n",
       "      <td>135</td>\n",
       "      <td>143.0</td>\n",
       "      <td>143.0</td>\n",
       "      <td>34</td>\n",
       "      <td>NaN</td>\n",
       "    </tr>\n",
       "    <tr>\n",
       "      <th>874</th>\n",
       "      <td>Stonjourner</td>\n",
       "      <td>8</td>\n",
       "      <td>Normal</td>\n",
       "      <td>Rock</td>\n",
       "      <td>NaN</td>\n",
       "      <td>2.5</td>\n",
       "      <td>520.0</td>\n",
       "      <td>Power Spot</td>\n",
       "      <td>NaN</td>\n",
       "      <td>100</td>\n",
       "      <td>125.0</td>\n",
       "      <td>135.0</td>\n",
       "      <td>70</td>\n",
       "      <td>NaN</td>\n",
       "    </tr>\n",
       "    <tr>\n",
       "      <th>879</th>\n",
       "      <td>Copperajah</td>\n",
       "      <td>8</td>\n",
       "      <td>Normal</td>\n",
       "      <td>Steel</td>\n",
       "      <td>NaN</td>\n",
       "      <td>3.0</td>\n",
       "      <td>650.0</td>\n",
       "      <td>Sheer Force</td>\n",
       "      <td>NaN</td>\n",
       "      <td>122</td>\n",
       "      <td>130.0</td>\n",
       "      <td>69.0</td>\n",
       "      <td>30</td>\n",
       "      <td>NaN</td>\n",
       "    </tr>\n",
       "    <tr>\n",
       "      <th>889</th>\n",
       "      <td>Zamazenta Crowned Shield</td>\n",
       "      <td>8</td>\n",
       "      <td>Legendary</td>\n",
       "      <td>Fighting</td>\n",
       "      <td>Steel</td>\n",
       "      <td>2.9</td>\n",
       "      <td>785.0</td>\n",
       "      <td>Dauntless Shield</td>\n",
       "      <td>NaN</td>\n",
       "      <td>92</td>\n",
       "      <td>130.0</td>\n",
       "      <td>145.0</td>\n",
       "      <td>128</td>\n",
       "      <td>NaN</td>\n",
       "    </tr>\n",
       "    <tr>\n",
       "      <th>890</th>\n",
       "      <td>Eternatus</td>\n",
       "      <td>8</td>\n",
       "      <td>Legendary</td>\n",
       "      <td>Poison</td>\n",
       "      <td>Dragon</td>\n",
       "      <td>20.0</td>\n",
       "      <td>950.0</td>\n",
       "      <td>Pressure</td>\n",
       "      <td>NaN</td>\n",
       "      <td>140</td>\n",
       "      <td>85.0</td>\n",
       "      <td>95.0</td>\n",
       "      <td>130</td>\n",
       "      <td>NaN</td>\n",
       "    </tr>\n",
       "  </tbody>\n",
       "</table>\n",
       "</div>"
      ],
      "text/plain": [
       "                             name  generation         status    type_1  \\\n",
       "pokedex                                                                  \n",
       "143                       Snorlax           1         Normal    Normal   \n",
       "208                  Mega Steelix           2         Normal     Steel   \n",
       "376                     Metagross           3         Normal     Steel   \n",
       "376                Mega Metagross           3         Normal     Steel   \n",
       "383                       Groudon           3      Legendary    Ground   \n",
       "383                Primal Groudon           3      Legendary    Ground   \n",
       "483                        Dialga           4      Legendary     Steel   \n",
       "487        Giratina Altered Forme           4      Legendary     Ghost   \n",
       "487         Giratina Origin Forme           4      Legendary     Ghost   \n",
       "713                       Avalugg           6         Normal       Ice   \n",
       "718        Zygarde Complete Forme           6      Legendary    Dragon   \n",
       "720           Hoopa Hoopa Unbound           6       Mythical   Psychic   \n",
       "750                      Mudsdale           7         Normal    Ground   \n",
       "790                       Cosmoem           7      Legendary   Psychic   \n",
       "797                    Celesteela           7  Sub Legendary     Steel   \n",
       "799                      Guzzlord           7  Sub Legendary      Dark   \n",
       "800            Dusk Mane Necrozma           7      Legendary   Psychic   \n",
       "805                     Stakataka           7  Sub Legendary      Rock   \n",
       "809                      Melmetal           7       Mythical     Steel   \n",
       "874                   Stonjourner           8         Normal      Rock   \n",
       "879                    Copperajah           8         Normal     Steel   \n",
       "889      Zamazenta Crowned Shield           8      Legendary  Fighting   \n",
       "890                     Eternatus           8      Legendary    Poison   \n",
       "\n",
       "          type_2  height_m  weight_kg         ability_1  ability_2   hp  \\\n",
       "pokedex                                                                   \n",
       "143          NaN       2.1      460.0          Immunity  Thick Fat  160   \n",
       "208       Ground      10.5      740.0        Sand Force        NaN   75   \n",
       "376      Psychic       1.6      550.0        Clear Body        NaN   80   \n",
       "376      Psychic       2.5      942.9       Tough Claws        NaN   80   \n",
       "383          NaN       3.5      950.0           Drought        NaN  100   \n",
       "383         Fire       5.0      999.7     Desolate Land        NaN  100   \n",
       "483       Dragon       5.4      683.0          Pressure        NaN  100   \n",
       "487       Dragon       4.5      750.0          Pressure        NaN  150   \n",
       "487       Dragon       6.9      650.0          Levitate        NaN  150   \n",
       "713          NaN       2.0      505.0         Own Tempo   Ice Body   95   \n",
       "718       Ground       4.5      610.0   Power Construct        NaN  216   \n",
       "720         Dark       6.5      490.0          Magician        NaN   80   \n",
       "750          NaN       2.5      920.0         Own Tempo    Stamina  100   \n",
       "790          NaN       0.1      999.9            Sturdy        NaN   43   \n",
       "797       Flying       9.2      999.9       Beast Boost        NaN   97   \n",
       "799       Dragon       5.5      888.0       Beast Boost        NaN  223   \n",
       "800        Steel       3.8      460.0       Prism Armor        NaN   97   \n",
       "805        Steel       5.5      820.0       Beast Boost        NaN   61   \n",
       "809          NaN       2.5      800.0         Iron Fist        NaN  135   \n",
       "874          NaN       2.5      520.0        Power Spot        NaN  100   \n",
       "879          NaN       3.0      650.0       Sheer Force        NaN  122   \n",
       "889        Steel       2.9      785.0  Dauntless Shield        NaN   92   \n",
       "890       Dragon      20.0      950.0          Pressure        NaN  140   \n",
       "\n",
       "         attack  defense  speed  catch_rate  \n",
       "pokedex                                      \n",
       "143       110.0     65.0     30        25.0  \n",
       "208       125.0    230.0     30        25.0  \n",
       "376       135.0    130.0     70         3.0  \n",
       "376       145.0    150.0    110         3.0  \n",
       "383       150.0    140.0     90         3.0  \n",
       "383       180.0    160.0     90         5.0  \n",
       "483       120.0    120.0     90         3.0  \n",
       "487       100.0    120.0     90         3.0  \n",
       "487       120.0    100.0     90         3.0  \n",
       "713       117.0    184.0     28        55.0  \n",
       "718       100.0    121.0     85         3.0  \n",
       "720       160.0     60.0     80         3.0  \n",
       "750       125.0    100.0     35        60.0  \n",
       "790        29.0    131.0     37        45.0  \n",
       "797       101.0    103.0     61        45.0  \n",
       "799       101.0     53.0     43        45.0  \n",
       "800       157.0    127.0     77         3.0  \n",
       "805       131.0    211.0     13        30.0  \n",
       "809       143.0    143.0     34         NaN  \n",
       "874       125.0    135.0     70         NaN  \n",
       "879       130.0     69.0     30         NaN  \n",
       "889       130.0    145.0    128         NaN  \n",
       "890        85.0     95.0    130         NaN  "
      ]
     },
     "execution_count": 35,
     "metadata": {},
     "output_type": "execute_result"
    }
   ],
   "source": [
    "# There are some outliers - let's see how many are more than three std's\n",
    "threshold = dfPokemonClean[\"weight_kg\"].mean() + 3 * dfPokemon[\"weight_kg\"].std()\n",
    "\n",
    "dfExtremeValues = dfPokemonClean[ dfPokemonClean[\"weight_kg\"] > threshold ]\n",
    "print(\"% of extreme values: \", 100*(dfExtremeValues.shape[0]/dfPokemonClean.shape[0]))\n",
    "dfExtremeValues"
   ]
  },
  {
   "cell_type": "code",
   "execution_count": 36,
   "metadata": {},
   "outputs": [
    {
     "data": {
      "image/png": "[encoded data removed]",
      "text/plain": [
       "<Figure size 640x480 with 1 Axes>"
      ]
     },
     "metadata": {},
     "output_type": "display_data"
    },
    {
     "data": {
      "text/plain": [
       "count    1004.000000\n",
       "mean       54.296514\n",
       "std        74.906299\n",
       "min         0.100000\n",
       "25%         8.500000\n",
       "50%        28.000000\n",
       "75%        62.000000\n",
       "max       430.000000\n",
       "Name: weight_kg, dtype: float64"
      ]
     },
     "execution_count": 36,
     "metadata": {},
     "output_type": "execute_result"
    }
   ],
   "source": [
    "# Very small, let's eliminate them to remove rare cases and replot\n",
    "dfPokemonClean = dfPokemonClean[ dfPokemonClean[\"weight_kg\"] <= threshold ]\n",
    "\n",
    "dfPokemonClean[\"weight_kg\"].plot.hist()\n",
    "plt.ylabel(\"Frequency\")\n",
    "plt.show()\n",
    "\n",
    "dfPokemonClean[\"weight_kg\"].describe()"
   ]
  },
  {
   "cell_type": "code",
   "execution_count": 37,
   "metadata": {},
   "outputs": [],
   "source": [
    "# Distribution is close to an Exponential and right-skewed. "
   ]
  },
  {
   "cell_type": "markdown",
   "metadata": {},
   "source": [
    "<i>Speed Analysis</i>"
   ]
  },
  {
   "cell_type": "code",
   "execution_count": 38,
   "metadata": {},
   "outputs": [
    {
     "data": {
      "image/png": "[encoded data removed]",
      "text/plain": [
       "<Figure size 640x480 with 1 Axes>"
      ]
     },
     "metadata": {},
     "output_type": "display_data"
    },
    {
     "data": {
      "text/plain": [
       "count    1004.000000\n",
       "mean       68.507968\n",
       "std        29.676705\n",
       "min         5.000000\n",
       "25%        45.000000\n",
       "50%        65.000000\n",
       "75%        90.000000\n",
       "max       180.000000\n",
       "Name: speed, dtype: float64"
      ]
     },
     "execution_count": 38,
     "metadata": {},
     "output_type": "execute_result"
    }
   ],
   "source": [
    "dfPokemonClean[\"speed\"].plot.hist()\n",
    "plt.ylabel(\"Frequency\")\n",
    "plt.show()\n",
    "\n",
    "dfPokemonClean[\"speed\"].describe()"
   ]
  },
  {
   "cell_type": "code",
   "execution_count": 39,
   "metadata": {},
   "outputs": [
    {
     "name": "stdout",
     "output_type": "stream",
     "text": [
      "% of extreme values:  0.199203187250996\n"
     ]
    },
    {
     "data": {
      "text/html": [
       "<div>\n",
       "<style scoped>\n",
       "    .dataframe tbody tr th:only-of-type {\n",
       "        vertical-align: middle;\n",
       "    }\n",
       "\n",
       "    .dataframe tbody tr th {\n",
       "        vertical-align: top;\n",
       "    }\n",
       "\n",
       "    .dataframe thead th {\n",
       "        text-align: right;\n",
       "    }\n",
       "</style>\n",
       "<table border=\"1\" class=\"dataframe\">\n",
       "  <thead>\n",
       "    <tr style=\"text-align: right;\">\n",
       "      <th></th>\n",
       "      <th>name</th>\n",
       "      <th>generation</th>\n",
       "      <th>status</th>\n",
       "      <th>type_1</th>\n",
       "      <th>type_2</th>\n",
       "      <th>height_m</th>\n",
       "      <th>weight_kg</th>\n",
       "      <th>ability_1</th>\n",
       "      <th>ability_2</th>\n",
       "      <th>hp</th>\n",
       "      <th>attack</th>\n",
       "      <th>defense</th>\n",
       "      <th>speed</th>\n",
       "      <th>catch_rate</th>\n",
       "    </tr>\n",
       "    <tr>\n",
       "      <th>pokedex</th>\n",
       "      <th></th>\n",
       "      <th></th>\n",
       "      <th></th>\n",
       "      <th></th>\n",
       "      <th></th>\n",
       "      <th></th>\n",
       "      <th></th>\n",
       "      <th></th>\n",
       "      <th></th>\n",
       "      <th></th>\n",
       "      <th></th>\n",
       "      <th></th>\n",
       "      <th></th>\n",
       "      <th></th>\n",
       "    </tr>\n",
       "  </thead>\n",
       "  <tbody>\n",
       "    <tr>\n",
       "      <th>291</th>\n",
       "      <td>Ninjask</td>\n",
       "      <td>3</td>\n",
       "      <td>Normal</td>\n",
       "      <td>Bug</td>\n",
       "      <td>Flying</td>\n",
       "      <td>0.8</td>\n",
       "      <td>12.0</td>\n",
       "      <td>Speed Boost</td>\n",
       "      <td>NaN</td>\n",
       "      <td>61</td>\n",
       "      <td>90.0</td>\n",
       "      <td>45.0</td>\n",
       "      <td>160</td>\n",
       "      <td>120.0</td>\n",
       "    </tr>\n",
       "    <tr>\n",
       "      <th>386</th>\n",
       "      <td>Deoxys Speed Forme</td>\n",
       "      <td>3</td>\n",
       "      <td>Mythical</td>\n",
       "      <td>Psychic</td>\n",
       "      <td>NaN</td>\n",
       "      <td>1.7</td>\n",
       "      <td>60.8</td>\n",
       "      <td>Pressure</td>\n",
       "      <td>NaN</td>\n",
       "      <td>50</td>\n",
       "      <td>95.0</td>\n",
       "      <td>90.0</td>\n",
       "      <td>180</td>\n",
       "      <td>3.0</td>\n",
       "    </tr>\n",
       "  </tbody>\n",
       "</table>\n",
       "</div>"
      ],
      "text/plain": [
       "                       name  generation    status   type_1  type_2  height_m  \\\n",
       "pokedex                                                                        \n",
       "291                 Ninjask           3    Normal      Bug  Flying       0.8   \n",
       "386      Deoxys Speed Forme           3  Mythical  Psychic     NaN       1.7   \n",
       "\n",
       "         weight_kg    ability_1 ability_2  hp  attack  defense  speed  \\\n",
       "pokedex                                                                 \n",
       "291           12.0  Speed Boost       NaN  61    90.0     45.0    160   \n",
       "386           60.8     Pressure       NaN  50    95.0     90.0    180   \n",
       "\n",
       "         catch_rate  \n",
       "pokedex              \n",
       "291           120.0  \n",
       "386             3.0  "
      ]
     },
     "execution_count": 39,
     "metadata": {},
     "output_type": "execute_result"
    }
   ],
   "source": [
    "# Technically there are very few (if any) extreme cases. \n",
    "# We can remove the extreme point if we wish, but that would not fundamentally change the analysis. \n",
    "\n",
    "# Let's do this for consistency with the other column\n",
    "threshold = dfPokemonClean[\"speed\"].mean() + 3 * dfPokemon[\"speed\"].std()\n",
    "\n",
    "dfExtremeValues = dfPokemonClean[ dfPokemonClean[\"speed\"] > threshold ]\n",
    "print(\"% of extreme values: \", 100*(dfExtremeValues.shape[0]/dfPokemonClean.shape[0]))\n",
    "dfExtremeValues"
   ]
  },
  {
   "cell_type": "code",
   "execution_count": 40,
   "metadata": {},
   "outputs": [
    {
     "data": {
      "image/png": "[encoded data removed]",
      "text/plain": [
       "<Figure size 640x480 with 1 Axes>"
      ]
     },
     "metadata": {},
     "output_type": "display_data"
    },
    {
     "data": {
      "text/plain": [
       "count    1002.000000\n",
       "mean       68.305389\n",
       "std        29.353789\n",
       "min         5.000000\n",
       "25%        45.000000\n",
       "50%        65.000000\n",
       "75%        90.000000\n",
       "max       151.000000\n",
       "Name: speed, dtype: float64"
      ]
     },
     "execution_count": 40,
     "metadata": {},
     "output_type": "execute_result"
    }
   ],
   "source": [
    "dfPokemonClean = dfPokemonClean[ dfPokemonClean[\"speed\"] <= threshold ]\n",
    "\n",
    "dfPokemonClean[\"speed\"].plot.hist()\n",
    "plt.ylabel(\"Frequency\")\n",
    "plt.show()\n",
    "\n",
    "dfPokemonClean[\"speed\"].describe()"
   ]
  },
  {
   "cell_type": "code",
   "execution_count": 41,
   "metadata": {},
   "outputs": [
    {
     "data": {
      "text/plain": [
       "NormaltestResult(statistic=30.560507184700434, pvalue=2.3113737820515202e-07)"
      ]
     },
     "execution_count": 41,
     "metadata": {},
     "output_type": "execute_result"
    }
   ],
   "source": [
    "# The distribution looks quite symmetric. \n",
    "\n",
    "# Curiosity: is this Normal?\n",
    "from scipy.stats import normaltest\n",
    "normaltest(dfPokemonClean[\"speed\"])"
   ]
  },
  {
   "cell_type": "code",
   "execution_count": 2,
   "metadata": {},
   "outputs": [],
   "source": [
    "# No... "
   ]
  },
  {
   "cell_type": "markdown",
   "metadata": {},
   "source": [
    "<i>Correlation Analysis</i>"
   ]
  },
  {
   "cell_type": "code",
   "execution_count": 43,
   "metadata": {},
   "outputs": [
    {
     "data": {
      "image/png": "[encoded data removed]",
      "text/plain": [
       "<Figure size 640x480 with 1 Axes>"
      ]
     },
     "metadata": {},
     "output_type": "display_data"
    }
   ],
   "source": [
    "plt.scatter(dfPokemonClean[\"weight_kg\"], dfPokemonClean[\"speed\"], alpha=0.4)\n",
    "plt.xlabel(\"Weight kg\")\n",
    "plt.ylabel(\"Speed\")\n",
    "plt.show()"
   ]
  },
  {
   "cell_type": "code",
   "execution_count": 44,
   "metadata": {},
   "outputs": [
    {
     "data": {
      "text/html": [
       "<div>\n",
       "<style scoped>\n",
       "    .dataframe tbody tr th:only-of-type {\n",
       "        vertical-align: middle;\n",
       "    }\n",
       "\n",
       "    .dataframe tbody tr th {\n",
       "        vertical-align: top;\n",
       "    }\n",
       "\n",
       "    .dataframe thead th {\n",
       "        text-align: right;\n",
       "    }\n",
       "</style>\n",
       "<table border=\"1\" class=\"dataframe\">\n",
       "  <thead>\n",
       "    <tr style=\"text-align: right;\">\n",
       "      <th></th>\n",
       "      <th>weight_kg</th>\n",
       "      <th>speed</th>\n",
       "    </tr>\n",
       "  </thead>\n",
       "  <tbody>\n",
       "    <tr>\n",
       "      <th>weight_kg</th>\n",
       "      <td>1.000000</td>\n",
       "      <td>0.138115</td>\n",
       "    </tr>\n",
       "    <tr>\n",
       "      <th>speed</th>\n",
       "      <td>0.138115</td>\n",
       "      <td>1.000000</td>\n",
       "    </tr>\n",
       "  </tbody>\n",
       "</table>\n",
       "</div>"
      ],
      "text/plain": [
       "           weight_kg     speed\n",
       "weight_kg   1.000000  0.138115\n",
       "speed       0.138115  1.000000"
      ]
     },
     "execution_count": 44,
     "metadata": {},
     "output_type": "execute_result"
    }
   ],
   "source": [
    "# Clearly not linear and very weakly correlated.\n",
    "# let's check Kendall's tau (Pearson's correlation are clearly violated.)\n",
    "\n",
    "dfPokemonClean[[\"weight_kg\", \"speed\"]].corr(\"kendall\")"
   ]
  },
  {
   "cell_type": "markdown",
   "metadata": {},
   "source": [
    "There is very weakly positive correlation. Thus, the data <b>does not</b> provide enough evidence that Pokemon with a high weight are also slower."
   ]
  },
  {
   "cell_type": "code",
   "execution_count": null,
   "metadata": {},
   "outputs": [],
   "source": []
  },
  {
   "cell_type": "code",
   "execution_count": null,
   "metadata": {},
   "outputs": [],
   "source": []
  },
  {
   "cell_type": "markdown",
   "metadata": {},
   "source": [
    "## Question 6 \n",
    "\n",
    "Nintendo has released a new service called <i>Pokemon Bank</i> that allows you to store Pokemon from different games and generations into a single database. Thus, it is now possible to <i>catch them all</i> and seemless use them in different games.\n",
    "\n",
    "On that note, catching a Pokemon depends on the catch rate, which is a number between 3 and 255 that impacts the likelihood that a Pokemon will be caught after defeating it on a fight. Assume for this question that the probability of catching a Pokemon depends <b>solely</b> on this number (and not on other factors, such as the type of Poke Ball). \n",
    "\n",
    "Moreover, assume also that the probability of catching a Pokemon is linearly proportional to this number, with catch_rate=3 having a probability of 1% and catch_rate=255 having a probability of 100%. For example, when defeating a Pokemon with catch_rate=255, we have 100% chance of catching it.\n",
    "\n",
    "Estimate the time it would take to <i>catch'em all</i>, that is, to catch all pokemon. Justify any additional assumptions that you make in your calculations. [2 pts]"
   ]
  },
  {
   "cell_type": "markdown",
   "metadata": {},
   "source": [
    "We first start by cleaning the catch rate column, which we know from Q1 has some empty fields. In this question, I will calculate an estimate that aims at giving a <i>minimum time</i> to catch them all (i.e., it is a lower bound on the real time). Thus, we can fill the catch rate with an optimistic value for the missing fields, which is 255 (the largest possible)."
   ]
  },
  {
   "cell_type": "code",
   "execution_count": 45,
   "metadata": {},
   "outputs": [
    {
     "data": {
      "text/plain": [
       "0"
      ]
     },
     "execution_count": 45,
     "metadata": {},
     "output_type": "execute_result"
    }
   ],
   "source": [
    "dfPokemonClean = dfPokemon.fillna({\"catch_rate\":255})\n",
    "dfPokemonClean[\"catch_rate\"].isnull().sum()"
   ]
  },
  {
   "cell_type": "markdown",
   "metadata": {},
   "source": [
    "We now calculate the probabilities based on the question statement. It is the line between 3-->1% and 255-->100%, that is, between the points (x1,y1) = (3,0.01) and (x2,y2) = (255,1), given by:\n",
    "\n",
    "y = y1 + (y2-y1)/(x2-x1) * (x - x1)"
   ]
  },
  {
   "cell_type": "code",
   "execution_count": 46,
   "metadata": {},
   "outputs": [
    {
     "data": {
      "text/plain": [
       "count    1028.000000\n",
       "mean        0.428565\n",
       "std         0.339578\n",
       "min         0.010000\n",
       "25%         0.175000\n",
       "50%         0.292857\n",
       "75%         0.744643\n",
       "max         1.000000\n",
       "Name: probability, dtype: float64"
      ]
     },
     "execution_count": 46,
     "metadata": {},
     "output_type": "execute_result"
    }
   ],
   "source": [
    "# Line\n",
    "dfPokemonClean[\"probability\"] = 0.01 + (1-0.01)/(255-3)*(dfPokemonClean[\"catch_rate\"] - 3)\n",
    "\n",
    "# We check the distribution to see if 'min' and 'max' are correct\n",
    "dfPokemonClean[\"probability\"].describe()"
   ]
  },
  {
   "cell_type": "markdown",
   "metadata": {},
   "source": [
    "The next question is: how many tries it takes to take a Pokemon given its probability?\n",
    "\n",
    "For our estimates, let's use the <b>expected number</b> of tries to pick each Pokemon, that is, how many times on average we need to battle a Pokemon to get it. The expectation is reasonable because some Pokemons we may take <i>more</i> tries than their expectation, while for other Pokemon we may end up with <i>less</i> tries, so on average we hope not to be too far from that number. \n",
    "\n",
    "To calculate this expectation, this is similar to the coin-flipping problem: how many coin flips we need to perform to get tails? This is a <b>geometric</b> distribution, with expectation given by <b>1/p</b> (where p is the probability)."
   ]
  },
  {
   "cell_type": "code",
   "execution_count": 47,
   "metadata": {},
   "outputs": [
    {
     "data": {
      "text/plain": [
       "count    1028.000000\n",
       "mean       11.459754\n",
       "std        26.447292\n",
       "min         1.000000\n",
       "25%         1.342926\n",
       "50%         3.414634\n",
       "75%         5.714286\n",
       "max       100.000000\n",
       "Name: tries, dtype: float64"
      ]
     },
     "execution_count": 47,
     "metadata": {},
     "output_type": "execute_result"
    }
   ],
   "source": [
    "# Calculate expected number of tries\n",
    "dfPokemonClean[\"tries\"] = 1/dfPokemonClean[\"probability\"]\n",
    "\n",
    "# We check the distribution\n",
    "dfPokemonClean[\"tries\"].describe()"
   ]
  },
  {
   "cell_type": "markdown",
   "metadata": {},
   "source": [
    "Finally, how much time per try? Using some statistics from Pokemon Sword and Shield (e.g., from YouTube), it typically takes 30s to one minute for a more experienced player to win a battle. We will use three minutes, since we should also consider the time to find Pokemons in the world, the time to talk to trainers, and other aspects (notice that three minutes per Pokemon would still be quite optimistic)."
   ]
  },
  {
   "cell_type": "code",
   "execution_count": 48,
   "metadata": {},
   "outputs": [
    {
     "data": {
      "text/plain": [
       "35341.880743297676"
      ]
     },
     "execution_count": 48,
     "metadata": {},
     "output_type": "execute_result"
    }
   ],
   "source": [
    "totaltime = dfPokemonClean[\"tries\"].sum() * 3\n",
    "totaltime"
   ]
  },
  {
   "cell_type": "code",
   "execution_count": 49,
   "metadata": {},
   "outputs": [
    {
     "data": {
      "text/plain": [
       "24.54297273840116"
      ]
     },
     "execution_count": 49,
     "metadata": {},
     "output_type": "execute_result"
    }
   ],
   "source": [
    "# Calculate time in days\n",
    "(totaltime/60)/24"
   ]
  },
  {
   "cell_type": "markdown",
   "metadata": {},
   "source": [
    "It would take at least 25 days (non-stop) to catch all Pokemon!"
   ]
  }
 ],
 "metadata": {
  "kernelspec": {
   "display_name": "Python 3 (ipykernel)",
   "language": "python",
   "name": "python3"
  },
  "language_info": {
   "codemirror_mode": {
    "name": "ipython",
    "version": 3
   },
   "file_extension": ".py",
   "mimetype": "text/x-python",
   "name": "python",
   "nbconvert_exporter": "python",
   "pygments_lexer": "ipython3",
   "version": "3.11.6"
  }
 },
 "nbformat": 4,
 "nbformat_minor": 2
}
